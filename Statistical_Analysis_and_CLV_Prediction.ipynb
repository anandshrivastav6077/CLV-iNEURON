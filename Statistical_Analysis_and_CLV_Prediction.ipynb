{
  "nbformat": 4,
  "nbformat_minor": 0,
  "metadata": {
    "kernelspec": {
      "display_name": "Python 3",
      "language": "python",
      "name": "python3"
    },
    "language_info": {
      "codemirror_mode": {
        "name": "ipython",
        "version": 3
      },
      "file_extension": ".py",
      "mimetype": "text/x-python",
      "name": "python",
      "nbconvert_exporter": "python",
      "pygments_lexer": "ipython3",
      "version": "3.7.4"
    },
    "colab": {
      "name": "Statistical Analysis  and CLV Prediction.ipynb",
      "provenance": []
    }
  },
  "cells": [
    {
      "cell_type": "markdown",
      "metadata": {
        "id": "YhRG1mxIYXaz"
      },
      "source": [
        "## Import libraries"
      ]
    },
    {
      "cell_type": "code",
      "metadata": {
        "id": "rWhwybcpYXa0"
      },
      "source": [
        "import pandas as pd\n",
        "import numpy as np\n",
        "import seaborn as sns\n",
        "import matplotlib.pyplot as plt\n",
        "import scipy.stats as stats"
      ],
      "execution_count": 1,
      "outputs": []
    },
    {
      "cell_type": "code",
      "metadata": {
        "colab": {
          "base_uri": "https://localhost:8080/",
          "height": 423
        },
        "id": "xIlWk5LdYXa0",
        "outputId": "df5c2e79-4e9b-4d7d-b72a-e06b921f2d73"
      },
      "source": [
        "df=pd.read_csv(\"/content/Fn-UseC_-Marketing-Customer-Value-Analysis.csv\")\n",
        "df.head()"
      ],
      "execution_count": 2,
      "outputs": [
        {
          "output_type": "execute_result",
          "data": {
            "text/html": [
              "<div>\n",
              "<style scoped>\n",
              "    .dataframe tbody tr th:only-of-type {\n",
              "        vertical-align: middle;\n",
              "    }\n",
              "\n",
              "    .dataframe tbody tr th {\n",
              "        vertical-align: top;\n",
              "    }\n",
              "\n",
              "    .dataframe thead th {\n",
              "        text-align: right;\n",
              "    }\n",
              "</style>\n",
              "<table border=\"1\" class=\"dataframe\">\n",
              "  <thead>\n",
              "    <tr style=\"text-align: right;\">\n",
              "      <th></th>\n",
              "      <th>Customer</th>\n",
              "      <th>State</th>\n",
              "      <th>Customer Lifetime Value</th>\n",
              "      <th>Response</th>\n",
              "      <th>Coverage</th>\n",
              "      <th>Education</th>\n",
              "      <th>Effective To Date</th>\n",
              "      <th>EmploymentStatus</th>\n",
              "      <th>Gender</th>\n",
              "      <th>Income</th>\n",
              "      <th>Location Code</th>\n",
              "      <th>Marital Status</th>\n",
              "      <th>Monthly Premium Auto</th>\n",
              "      <th>Months Since Last Claim</th>\n",
              "      <th>Months Since Policy Inception</th>\n",
              "      <th>Number of Open Complaints</th>\n",
              "      <th>Number of Policies</th>\n",
              "      <th>Policy Type</th>\n",
              "      <th>Policy</th>\n",
              "      <th>Renew Offer Type</th>\n",
              "      <th>Sales Channel</th>\n",
              "      <th>Total Claim Amount</th>\n",
              "      <th>Vehicle Class</th>\n",
              "      <th>Vehicle Size</th>\n",
              "    </tr>\n",
              "  </thead>\n",
              "  <tbody>\n",
              "    <tr>\n",
              "      <th>0</th>\n",
              "      <td>BU79786</td>\n",
              "      <td>Washington</td>\n",
              "      <td>2763.519279</td>\n",
              "      <td>No</td>\n",
              "      <td>Basic</td>\n",
              "      <td>Bachelor</td>\n",
              "      <td>2/24/11</td>\n",
              "      <td>Employed</td>\n",
              "      <td>F</td>\n",
              "      <td>56274</td>\n",
              "      <td>Suburban</td>\n",
              "      <td>Married</td>\n",
              "      <td>69</td>\n",
              "      <td>32</td>\n",
              "      <td>5</td>\n",
              "      <td>0</td>\n",
              "      <td>1</td>\n",
              "      <td>Corporate Auto</td>\n",
              "      <td>Corporate L3</td>\n",
              "      <td>Offer1</td>\n",
              "      <td>Agent</td>\n",
              "      <td>384.811147</td>\n",
              "      <td>Two-Door Car</td>\n",
              "      <td>Medsize</td>\n",
              "    </tr>\n",
              "    <tr>\n",
              "      <th>1</th>\n",
              "      <td>QZ44356</td>\n",
              "      <td>Arizona</td>\n",
              "      <td>6979.535903</td>\n",
              "      <td>No</td>\n",
              "      <td>Extended</td>\n",
              "      <td>Bachelor</td>\n",
              "      <td>1/31/11</td>\n",
              "      <td>Unemployed</td>\n",
              "      <td>F</td>\n",
              "      <td>0</td>\n",
              "      <td>Suburban</td>\n",
              "      <td>Single</td>\n",
              "      <td>94</td>\n",
              "      <td>13</td>\n",
              "      <td>42</td>\n",
              "      <td>0</td>\n",
              "      <td>8</td>\n",
              "      <td>Personal Auto</td>\n",
              "      <td>Personal L3</td>\n",
              "      <td>Offer3</td>\n",
              "      <td>Agent</td>\n",
              "      <td>1131.464935</td>\n",
              "      <td>Four-Door Car</td>\n",
              "      <td>Medsize</td>\n",
              "    </tr>\n",
              "    <tr>\n",
              "      <th>2</th>\n",
              "      <td>AI49188</td>\n",
              "      <td>Nevada</td>\n",
              "      <td>12887.431650</td>\n",
              "      <td>No</td>\n",
              "      <td>Premium</td>\n",
              "      <td>Bachelor</td>\n",
              "      <td>2/19/11</td>\n",
              "      <td>Employed</td>\n",
              "      <td>F</td>\n",
              "      <td>48767</td>\n",
              "      <td>Suburban</td>\n",
              "      <td>Married</td>\n",
              "      <td>108</td>\n",
              "      <td>18</td>\n",
              "      <td>38</td>\n",
              "      <td>0</td>\n",
              "      <td>2</td>\n",
              "      <td>Personal Auto</td>\n",
              "      <td>Personal L3</td>\n",
              "      <td>Offer1</td>\n",
              "      <td>Agent</td>\n",
              "      <td>566.472247</td>\n",
              "      <td>Two-Door Car</td>\n",
              "      <td>Medsize</td>\n",
              "    </tr>\n",
              "    <tr>\n",
              "      <th>3</th>\n",
              "      <td>WW63253</td>\n",
              "      <td>California</td>\n",
              "      <td>7645.861827</td>\n",
              "      <td>No</td>\n",
              "      <td>Basic</td>\n",
              "      <td>Bachelor</td>\n",
              "      <td>1/20/11</td>\n",
              "      <td>Unemployed</td>\n",
              "      <td>M</td>\n",
              "      <td>0</td>\n",
              "      <td>Suburban</td>\n",
              "      <td>Married</td>\n",
              "      <td>106</td>\n",
              "      <td>18</td>\n",
              "      <td>65</td>\n",
              "      <td>0</td>\n",
              "      <td>7</td>\n",
              "      <td>Corporate Auto</td>\n",
              "      <td>Corporate L2</td>\n",
              "      <td>Offer1</td>\n",
              "      <td>Call Center</td>\n",
              "      <td>529.881344</td>\n",
              "      <td>SUV</td>\n",
              "      <td>Medsize</td>\n",
              "    </tr>\n",
              "    <tr>\n",
              "      <th>4</th>\n",
              "      <td>HB64268</td>\n",
              "      <td>Washington</td>\n",
              "      <td>2813.692575</td>\n",
              "      <td>No</td>\n",
              "      <td>Basic</td>\n",
              "      <td>Bachelor</td>\n",
              "      <td>2/3/11</td>\n",
              "      <td>Employed</td>\n",
              "      <td>M</td>\n",
              "      <td>43836</td>\n",
              "      <td>Rural</td>\n",
              "      <td>Single</td>\n",
              "      <td>73</td>\n",
              "      <td>12</td>\n",
              "      <td>44</td>\n",
              "      <td>0</td>\n",
              "      <td>1</td>\n",
              "      <td>Personal Auto</td>\n",
              "      <td>Personal L1</td>\n",
              "      <td>Offer1</td>\n",
              "      <td>Agent</td>\n",
              "      <td>138.130879</td>\n",
              "      <td>Four-Door Car</td>\n",
              "      <td>Medsize</td>\n",
              "    </tr>\n",
              "  </tbody>\n",
              "</table>\n",
              "</div>"
            ],
            "text/plain": [
              "  Customer       State  ...  Vehicle Class Vehicle Size\n",
              "0  BU79786  Washington  ...   Two-Door Car      Medsize\n",
              "1  QZ44356     Arizona  ...  Four-Door Car      Medsize\n",
              "2  AI49188      Nevada  ...   Two-Door Car      Medsize\n",
              "3  WW63253  California  ...            SUV      Medsize\n",
              "4  HB64268  Washington  ...  Four-Door Car      Medsize\n",
              "\n",
              "[5 rows x 24 columns]"
            ]
          },
          "metadata": {
            "tags": []
          },
          "execution_count": 2
        }
      ]
    },
    {
      "cell_type": "code",
      "metadata": {
        "id": "EIUAy5I2YXa3"
      },
      "source": [
        "df.rename(columns={'Customer Lifetime Value':'CLV'},inplace=True)"
      ],
      "execution_count": 3,
      "outputs": []
    },
    {
      "cell_type": "code",
      "metadata": {
        "colab": {
          "base_uri": "https://localhost:8080/"
        },
        "id": "zYRlwJ4-YXa5",
        "outputId": "7640b5dd-334d-42c3-cb99-3ab74b0adcb1"
      },
      "source": [
        "df.info()"
      ],
      "execution_count": 4,
      "outputs": [
        {
          "output_type": "stream",
          "text": [
            "<class 'pandas.core.frame.DataFrame'>\n",
            "RangeIndex: 9134 entries, 0 to 9133\n",
            "Data columns (total 24 columns):\n",
            " #   Column                         Non-Null Count  Dtype  \n",
            "---  ------                         --------------  -----  \n",
            " 0   Customer                       9134 non-null   object \n",
            " 1   State                          9134 non-null   object \n",
            " 2   CLV                            9134 non-null   float64\n",
            " 3   Response                       9134 non-null   object \n",
            " 4   Coverage                       9134 non-null   object \n",
            " 5   Education                      9134 non-null   object \n",
            " 6   Effective To Date              9134 non-null   object \n",
            " 7   EmploymentStatus               9134 non-null   object \n",
            " 8   Gender                         9134 non-null   object \n",
            " 9   Income                         9134 non-null   int64  \n",
            " 10  Location Code                  9134 non-null   object \n",
            " 11  Marital Status                 9134 non-null   object \n",
            " 12  Monthly Premium Auto           9134 non-null   int64  \n",
            " 13  Months Since Last Claim        9134 non-null   int64  \n",
            " 14  Months Since Policy Inception  9134 non-null   int64  \n",
            " 15  Number of Open Complaints      9134 non-null   int64  \n",
            " 16  Number of Policies             9134 non-null   int64  \n",
            " 17  Policy Type                    9134 non-null   object \n",
            " 18  Policy                         9134 non-null   object \n",
            " 19  Renew Offer Type               9134 non-null   object \n",
            " 20  Sales Channel                  9134 non-null   object \n",
            " 21  Total Claim Amount             9134 non-null   float64\n",
            " 22  Vehicle Class                  9134 non-null   object \n",
            " 23  Vehicle Size                   9134 non-null   object \n",
            "dtypes: float64(2), int64(6), object(16)\n",
            "memory usage: 1.7+ MB\n"
          ],
          "name": "stdout"
        }
      ]
    },
    {
      "cell_type": "code",
      "metadata": {
        "id": "KBO-M5QsYXa8"
      },
      "source": [
        "numerical_cols = df.select_dtypes(include=[\"int64\",\"float64\"])"
      ],
      "execution_count": 5,
      "outputs": []
    },
    {
      "cell_type": "code",
      "metadata": {
        "colab": {
          "base_uri": "https://localhost:8080/"
        },
        "id": "AffiG60rYXa9",
        "outputId": "97b46b6b-787a-4d2b-895e-7799ab17a60c"
      },
      "source": [
        "numerical_cols.columns"
      ],
      "execution_count": 6,
      "outputs": [
        {
          "output_type": "execute_result",
          "data": {
            "text/plain": [
              "Index(['CLV', 'Income', 'Monthly Premium Auto', 'Months Since Last Claim',\n",
              "       'Months Since Policy Inception', 'Number of Open Complaints',\n",
              "       'Number of Policies', 'Total Claim Amount'],\n",
              "      dtype='object')"
            ]
          },
          "metadata": {
            "tags": []
          },
          "execution_count": 6
        }
      ]
    },
    {
      "cell_type": "code",
      "metadata": {
        "id": "aG5QsW5IYXa-"
      },
      "source": [
        "numerical_cols = numerical_cols.drop([\"Number of Policies\",\"Number of Open Complaints\"],axis=1)"
      ],
      "execution_count": 7,
      "outputs": []
    },
    {
      "cell_type": "markdown",
      "metadata": {
        "id": "7eZ7JCtzYXbA"
      },
      "source": [
        "## Summary Statistics of Numerical features"
      ]
    },
    {
      "cell_type": "code",
      "metadata": {
        "scrolled": false,
        "colab": {
          "base_uri": "https://localhost:8080/",
          "height": 294
        },
        "id": "exRpheHrYXbB",
        "outputId": "d3caf51c-79ff-4b1c-81a0-0bc57fcdb00e"
      },
      "source": [
        "numerical_cols.describe()"
      ],
      "execution_count": 8,
      "outputs": [
        {
          "output_type": "execute_result",
          "data": {
            "text/html": [
              "<div>\n",
              "<style scoped>\n",
              "    .dataframe tbody tr th:only-of-type {\n",
              "        vertical-align: middle;\n",
              "    }\n",
              "\n",
              "    .dataframe tbody tr th {\n",
              "        vertical-align: top;\n",
              "    }\n",
              "\n",
              "    .dataframe thead th {\n",
              "        text-align: right;\n",
              "    }\n",
              "</style>\n",
              "<table border=\"1\" class=\"dataframe\">\n",
              "  <thead>\n",
              "    <tr style=\"text-align: right;\">\n",
              "      <th></th>\n",
              "      <th>CLV</th>\n",
              "      <th>Income</th>\n",
              "      <th>Monthly Premium Auto</th>\n",
              "      <th>Months Since Last Claim</th>\n",
              "      <th>Months Since Policy Inception</th>\n",
              "      <th>Total Claim Amount</th>\n",
              "    </tr>\n",
              "  </thead>\n",
              "  <tbody>\n",
              "    <tr>\n",
              "      <th>count</th>\n",
              "      <td>9134.000000</td>\n",
              "      <td>9134.000000</td>\n",
              "      <td>9134.000000</td>\n",
              "      <td>9134.000000</td>\n",
              "      <td>9134.000000</td>\n",
              "      <td>9134.000000</td>\n",
              "    </tr>\n",
              "    <tr>\n",
              "      <th>mean</th>\n",
              "      <td>8004.940475</td>\n",
              "      <td>37657.380009</td>\n",
              "      <td>93.219291</td>\n",
              "      <td>15.097000</td>\n",
              "      <td>48.064594</td>\n",
              "      <td>434.088794</td>\n",
              "    </tr>\n",
              "    <tr>\n",
              "      <th>std</th>\n",
              "      <td>6870.967608</td>\n",
              "      <td>30379.904734</td>\n",
              "      <td>34.407967</td>\n",
              "      <td>10.073257</td>\n",
              "      <td>27.905991</td>\n",
              "      <td>290.500092</td>\n",
              "    </tr>\n",
              "    <tr>\n",
              "      <th>min</th>\n",
              "      <td>1898.007675</td>\n",
              "      <td>0.000000</td>\n",
              "      <td>61.000000</td>\n",
              "      <td>0.000000</td>\n",
              "      <td>0.000000</td>\n",
              "      <td>0.099007</td>\n",
              "    </tr>\n",
              "    <tr>\n",
              "      <th>25%</th>\n",
              "      <td>3994.251794</td>\n",
              "      <td>0.000000</td>\n",
              "      <td>68.000000</td>\n",
              "      <td>6.000000</td>\n",
              "      <td>24.000000</td>\n",
              "      <td>272.258244</td>\n",
              "    </tr>\n",
              "    <tr>\n",
              "      <th>50%</th>\n",
              "      <td>5780.182197</td>\n",
              "      <td>33889.500000</td>\n",
              "      <td>83.000000</td>\n",
              "      <td>14.000000</td>\n",
              "      <td>48.000000</td>\n",
              "      <td>383.945434</td>\n",
              "    </tr>\n",
              "    <tr>\n",
              "      <th>75%</th>\n",
              "      <td>8962.167041</td>\n",
              "      <td>62320.000000</td>\n",
              "      <td>109.000000</td>\n",
              "      <td>23.000000</td>\n",
              "      <td>71.000000</td>\n",
              "      <td>547.514839</td>\n",
              "    </tr>\n",
              "    <tr>\n",
              "      <th>max</th>\n",
              "      <td>83325.381190</td>\n",
              "      <td>99981.000000</td>\n",
              "      <td>298.000000</td>\n",
              "      <td>35.000000</td>\n",
              "      <td>99.000000</td>\n",
              "      <td>2893.239678</td>\n",
              "    </tr>\n",
              "  </tbody>\n",
              "</table>\n",
              "</div>"
            ],
            "text/plain": [
              "                CLV  ...  Total Claim Amount\n",
              "count   9134.000000  ...         9134.000000\n",
              "mean    8004.940475  ...          434.088794\n",
              "std     6870.967608  ...          290.500092\n",
              "min     1898.007675  ...            0.099007\n",
              "25%     3994.251794  ...          272.258244\n",
              "50%     5780.182197  ...          383.945434\n",
              "75%     8962.167041  ...          547.514839\n",
              "max    83325.381190  ...         2893.239678\n",
              "\n",
              "[8 rows x 6 columns]"
            ]
          },
          "metadata": {
            "tags": []
          },
          "execution_count": 8
        }
      ]
    },
    {
      "cell_type": "code",
      "metadata": {
        "id": "_paK6uZcKyOK"
      },
      "source": [
        "cat_cols = df.select_dtypes(include=\"object\")\n",
        "no_col = df[[\"Number of Open Complaints\",\"Number of Policies\"]]\n",
        "cat_cols = pd.concat([cat_cols,no_col],axis=1)\n",
        "cat_cols.drop(\"Effective To Date\",axis=1,inplace=True)"
      ],
      "execution_count": 9,
      "outputs": []
    },
    {
      "cell_type": "markdown",
      "metadata": {
        "id": "OPlmp1UPYXbs"
      },
      "source": [
        "## Statistical Significance"
      ]
    },
    {
      "cell_type": "markdown",
      "metadata": {
        "id": "5YF60CwsYXbs"
      },
      "source": [
        "- H0:The null hypothesis of the test is the data is normally distributed\n",
        "- HA:The data is not normally distributed"
      ]
    },
    {
      "cell_type": "code",
      "metadata": {
        "colab": {
          "base_uri": "https://localhost:8080/"
        },
        "id": "GuudrtsqYXb0",
        "outputId": "fe29a765-d5c9-4555-ea43-5813ccb4c7dc"
      },
      "source": [
        "stats.shapiro(df['CLV'])"
      ],
      "execution_count": 10,
      "outputs": [
        {
          "output_type": "stream",
          "text": [
            "/usr/local/lib/python3.7/dist-packages/scipy/stats/morestats.py:1676: UserWarning: p-value may not be accurate for N > 5000.\n",
            "  warnings.warn(\"p-value may not be accurate for N > 5000.\")\n"
          ],
          "name": "stderr"
        },
        {
          "output_type": "execute_result",
          "data": {
            "text/plain": [
              "(0.7033728361129761, 0.0)"
            ]
          },
          "metadata": {
            "tags": []
          },
          "execution_count": 10
        }
      ]
    },
    {
      "cell_type": "markdown",
      "metadata": {
        "id": "Y0hgCvI0YXb2"
      },
      "source": [
        "p-value less than 0.05 we reject null hypothesis the data is not normally distributed"
      ]
    },
    {
      "cell_type": "markdown",
      "metadata": {
        "id": "OEVjNFZWYXb3"
      },
      "source": [
        "We will proceed with non parametric tests since the dependent variable is not normally distributed"
      ]
    },
    {
      "cell_type": "code",
      "metadata": {
        "colab": {
          "base_uri": "https://localhost:8080/"
        },
        "id": "7LlF7z5WYXb4",
        "outputId": "c2cbc326-aba8-4cd9-cc1c-2a7ebb666326"
      },
      "source": [
        "columns_cat = list(cat_cols.columns)\n",
        "columns_cat"
      ],
      "execution_count": 11,
      "outputs": [
        {
          "output_type": "execute_result",
          "data": {
            "text/plain": [
              "['Customer',\n",
              " 'State',\n",
              " 'Response',\n",
              " 'Coverage',\n",
              " 'Education',\n",
              " 'EmploymentStatus',\n",
              " 'Gender',\n",
              " 'Location Code',\n",
              " 'Marital Status',\n",
              " 'Policy Type',\n",
              " 'Policy',\n",
              " 'Renew Offer Type',\n",
              " 'Sales Channel',\n",
              " 'Vehicle Class',\n",
              " 'Vehicle Size',\n",
              " 'Number of Open Complaints',\n",
              " 'Number of Policies']"
            ]
          },
          "metadata": {
            "tags": []
          },
          "execution_count": 11
        }
      ]
    },
    {
      "cell_type": "code",
      "metadata": {
        "id": "5yS-3G9yYXb4",
        "colab": {
          "base_uri": "https://localhost:8080/"
        },
        "outputId": "847140ef-acf8-444b-ecee-f179160bc2c7"
      },
      "source": [
        "manwhiteneyy = []\n",
        "anova = []\n",
        "\n",
        "for i in columns_cat:\n",
        "    if (df[i].nunique()>2):\n",
        "        anova.append(i)\n",
        "    else:\n",
        "        manwhiteneyy.append(i)\n",
        "print(\"Anova:\",anova)\n",
        "print(\"TTest:\",manwhiteneyy)"
      ],
      "execution_count": 12,
      "outputs": [
        {
          "output_type": "stream",
          "text": [
            "Anova: ['Customer', 'State', 'Coverage', 'Education', 'EmploymentStatus', 'Location Code', 'Marital Status', 'Policy Type', 'Policy', 'Renew Offer Type', 'Sales Channel', 'Vehicle Class', 'Vehicle Size', 'Number of Open Complaints', 'Number of Policies']\n",
            "TTest: ['Response', 'Gender']\n"
          ],
          "name": "stdout"
        }
      ]
    },
    {
      "cell_type": "markdown",
      "metadata": {
        "id": "ZjNQgOF7YXb5"
      },
      "source": [
        " H0, the distributions of both populations are equal\n",
        "The alternative hypothesis H1 is that the distributions are not equal.    "
      ]
    },
    {
      "cell_type": "code",
      "metadata": {
        "id": "I3OiJ1V5YXb6"
      },
      "source": [
        "yes=df[df['Response']=='No']['CLV']\n",
        "no=df[df['Response']=='Yes']['CLV']"
      ],
      "execution_count": 13,
      "outputs": []
    },
    {
      "cell_type": "code",
      "metadata": {
        "scrolled": true,
        "colab": {
          "base_uri": "https://localhost:8080/",
          "height": 383
        },
        "id": "UAAaA8pzYXb6",
        "outputId": "836189ba-252f-4361-ea60-8d558561ac0d"
      },
      "source": [
        "sns.distplot(yes)\n",
        "sns.distplot(no)"
      ],
      "execution_count": 14,
      "outputs": [
        {
          "output_type": "stream",
          "text": [
            "/usr/local/lib/python3.7/dist-packages/seaborn/distributions.py:2557: FutureWarning: `distplot` is a deprecated function and will be removed in a future version. Please adapt your code to use either `displot` (a figure-level function with similar flexibility) or `histplot` (an axes-level function for histograms).\n",
            "  warnings.warn(msg, FutureWarning)\n",
            "/usr/local/lib/python3.7/dist-packages/seaborn/distributions.py:2557: FutureWarning: `distplot` is a deprecated function and will be removed in a future version. Please adapt your code to use either `displot` (a figure-level function with similar flexibility) or `histplot` (an axes-level function for histograms).\n",
            "  warnings.warn(msg, FutureWarning)\n"
          ],
          "name": "stderr"
        },
        {
          "output_type": "execute_result",
          "data": {
            "text/plain": [
              "<matplotlib.axes._subplots.AxesSubplot at 0x7fcb3995d510>"
            ]
          },
          "metadata": {
            "tags": []
          },
          "execution_count": 14
        },
        {
          "output_type": "display_data",
          "data": {
            "image/png": "[encoded data removed]",
            "text/plain": [
              "<Figure size 432x288 with 1 Axes>"
            ]
          },
          "metadata": {
            "tags": [],
            "needs_background": "light"
          }
        }
      ]
    },
    {
      "cell_type": "markdown",
      "metadata": {
        "id": "oDZVrNTKYXb6"
      },
      "source": [
        "If the distributions are identical, which is the null hypothesis of the Mann-Whitney U test, the mean rank will be the same"
      ]
    },
    {
      "cell_type": "code",
      "metadata": {
        "colab": {
          "base_uri": "https://localhost:8080/"
        },
        "id": "EESk_UBTYXb6",
        "outputId": "4e2e292f-cc56-4643-8558-0d986ad2e27a"
      },
      "source": [
        "f = stats.mannwhitneyu(yes,no)\n",
        "print(f)"
      ],
      "execution_count": 15,
      "outputs": [
        {
          "output_type": "stream",
          "text": [
            "MannwhitneyuResult(statistic=5060988.0, pvalue=0.2584436122645599)\n"
          ],
          "name": "stdout"
        }
      ]
    },
    {
      "cell_type": "markdown",
      "metadata": {
        "id": "fULhN21rYXb6"
      },
      "source": [
        "p-value is greater than 0.05 we failed to reject null hypothesis i.e the mean rank will be the same for both males and females."
      ]
    },
    {
      "cell_type": "code",
      "metadata": {
        "id": "FGzmbPBgYXb7"
      },
      "source": [
        "male=df[df['Gender']=='M']['CLV']\n",
        "female=df[df['Gender']=='F']['CLV']"
      ],
      "execution_count": 16,
      "outputs": []
    },
    {
      "cell_type": "code",
      "metadata": {
        "colab": {
          "base_uri": "https://localhost:8080/"
        },
        "id": "Pf9xCtQAYXb7",
        "outputId": "6a400c81-0590-46c0-9cb0-10976456668a"
      },
      "source": [
        "b =stats.mannwhitneyu(male,female)\n",
        "print(b)"
      ],
      "execution_count": 17,
      "outputs": [
        {
          "output_type": "stream",
          "text": [
            "MannwhitneyuResult(statistic=10337134.0, pvalue=0.24374651528224917)\n"
          ],
          "name": "stdout"
        }
      ]
    },
    {
      "cell_type": "markdown",
      "metadata": {
        "id": "BiE2qc1QYXb7"
      },
      "source": [
        "p-value is greater than 0.05 we failed to reject null hypothesis i.e the mean rank will be the same for both males and females."
      ]
    },
    {
      "cell_type": "markdown",
      "metadata": {
        "id": "SsahVlBMYXb7"
      },
      "source": [
        "we test above two features with non-Paramteric unpaired ttest and we concluded that those 2 features is not significant to predict traget"
      ]
    },
    {
      "cell_type": "markdown",
      "metadata": {
        "id": "pWu82JXVYXb7"
      },
      "source": [
        "- H0:the mean ranks of the groups are the same.\n",
        "- H1:the mean ranks of the groups are not the same."
      ]
    },
    {
      "cell_type": "code",
      "metadata": {
        "id": "RLtIjnYzYXb7"
      },
      "source": [
        "ca=df[df['State']=='California']['CLV']\n",
        "Or=df[df['State']=='Oregon']['CLV']\n",
        "Ar=df[df['State']=='Arizona']['CLV']\n",
        "Ne=df[df['State']=='Nevada']['CLV']\n",
        "Wa=df[df['State']=='Washington']['CLV']"
      ],
      "execution_count": 18,
      "outputs": []
    },
    {
      "cell_type": "code",
      "metadata": {
        "colab": {
          "base_uri": "https://localhost:8080/"
        },
        "id": "6xXQw8S8YXb7",
        "outputId": "9c4a0fd4-b628-4414-e613-50aeebe58187"
      },
      "source": [
        "a = stats.kruskal(ca,Or,Ar,Ne,Wa)\n",
        "print(a)"
      ],
      "execution_count": 19,
      "outputs": [
        {
          "output_type": "stream",
          "text": [
            "KruskalResult(statistic=5.072069583836472, pvalue=0.27998232358818953)\n"
          ],
          "name": "stdout"
        }
      ]
    },
    {
      "cell_type": "markdown",
      "metadata": {
        "id": "R4PkeT7qYXb8"
      },
      "source": [
        "p-value > 0.05 failed to reject H0"
      ]
    },
    {
      "cell_type": "code",
      "metadata": {
        "colab": {
          "base_uri": "https://localhost:8080/"
        },
        "id": "GFbLCxxDYXb8",
        "outputId": "72e7c827-38c7-465c-df75-4f0244f6788e"
      },
      "source": [
        "stats.f_oneway(ca,Or,Ar,Ne,Wa)\n",
        "print(b)"
      ],
      "execution_count": 20,
      "outputs": [
        {
          "output_type": "stream",
          "text": [
            "MannwhitneyuResult(statistic=10337134.0, pvalue=0.24374651528224917)\n"
          ],
          "name": "stdout"
        }
      ]
    },
    {
      "cell_type": "code",
      "metadata": {
        "id": "BCj9IF7sYXb8"
      },
      "source": [
        "# df.rename(columns={'CLV':'CLV'},inplace=True)"
      ],
      "execution_count": 21,
      "outputs": []
    },
    {
      "cell_type": "code",
      "metadata": {
        "id": "Czisp0ZdYXb8"
      },
      "source": [
        "Ba=df[df['Coverage']=='Basic']['CLV']\n",
        "Ex=df[df['Coverage']=='Extended']['CLV']\n",
        "Pr=df[df['Coverage']=='Premium']['CLV']"
      ],
      "execution_count": 22,
      "outputs": []
    },
    {
      "cell_type": "code",
      "metadata": {
        "colab": {
          "base_uri": "https://localhost:8080/",
          "height": 400
        },
        "id": "TkZixvImYXb8",
        "outputId": "76881a8a-dc62-4acb-f18e-72d483468858"
      },
      "source": [
        "sns.distplot(Ba,hist=False,label='Basic')\n",
        "sns.distplot(Ex,hist=False)\n",
        "sns.distplot(Pr,hist=False)\n",
        "plt.show()"
      ],
      "execution_count": 23,
      "outputs": [
        {
          "output_type": "stream",
          "text": [
            "/usr/local/lib/python3.7/dist-packages/seaborn/distributions.py:2557: FutureWarning: `distplot` is a deprecated function and will be removed in a future version. Please adapt your code to use either `displot` (a figure-level function with similar flexibility) or `kdeplot` (an axes-level function for kernel density plots).\n",
            "  warnings.warn(msg, FutureWarning)\n",
            "/usr/local/lib/python3.7/dist-packages/seaborn/distributions.py:2557: FutureWarning: `distplot` is a deprecated function and will be removed in a future version. Please adapt your code to use either `displot` (a figure-level function with similar flexibility) or `kdeplot` (an axes-level function for kernel density plots).\n",
            "  warnings.warn(msg, FutureWarning)\n",
            "/usr/local/lib/python3.7/dist-packages/seaborn/distributions.py:2557: FutureWarning: `distplot` is a deprecated function and will be removed in a future version. Please adapt your code to use either `displot` (a figure-level function with similar flexibility) or `kdeplot` (an axes-level function for kernel density plots).\n",
            "  warnings.warn(msg, FutureWarning)\n"
          ],
          "name": "stderr"
        },
        {
          "output_type": "display_data",
          "data": {
            "image/png": "[encoded data removed]",
            "text/plain": [
              "<Figure size 432x288 with 1 Axes>"
            ]
          },
          "metadata": {
            "tags": [],
            "needs_background": "light"
          }
        }
      ]
    },
    {
      "cell_type": "code",
      "metadata": {
        "colab": {
          "base_uri": "https://localhost:8080/"
        },
        "id": "7L5ZIVzzYXb8",
        "outputId": "7b930494-83d1-4fb7-d0ae-468c0401fb06"
      },
      "source": [
        "c =stats.kruskal(Ba,Ex,Pr)\n",
        "print(c)"
      ],
      "execution_count": 24,
      "outputs": [
        {
          "output_type": "stream",
          "text": [
            "KruskalResult(statistic=502.4996090762843, pvalue=7.648852917746348e-110)\n"
          ],
          "name": "stdout"
        }
      ]
    },
    {
      "cell_type": "markdown",
      "metadata": {
        "id": "Z70mM_XjYXb8"
      },
      "source": [
        "p-value < 0.05 to reject H0"
      ]
    },
    {
      "cell_type": "code",
      "metadata": {
        "colab": {
          "base_uri": "https://localhost:8080/"
        },
        "id": "bnr_HtExYXb9",
        "outputId": "7d8029a7-ed62-4fd9-d022-8c65dc2fd00c"
      },
      "source": [
        "stats.f_oneway(Ba,Ex,Pr)"
      ],
      "execution_count": 25,
      "outputs": [
        {
          "output_type": "execute_result",
          "data": {
            "text/plain": [
              "F_onewayResult(statistic=133.67511419504908, pvalue=6.0158970099807e-58)"
            ]
          },
          "metadata": {
            "tags": []
          },
          "execution_count": 25
        }
      ]
    },
    {
      "cell_type": "code",
      "metadata": {
        "id": "mWlKuZbHYXb9"
      },
      "source": [
        "Ba=df[df['Education']=='Bachelor']['CLV']\n",
        "Co=df[df['Education']=='College']['CLV']\n",
        "Hi=df[df['Education']=='High School or Below']['CLV']\n",
        "Ma=df[df['Education']=='Master']['CLV']\n",
        "Da=df[df['Education']=='Doctor']['CLV']"
      ],
      "execution_count": 26,
      "outputs": []
    },
    {
      "cell_type": "code",
      "metadata": {
        "colab": {
          "base_uri": "https://localhost:8080/"
        },
        "id": "keNpNOO-YXb9",
        "outputId": "2560e98b-99bc-485e-a010-0d597ae820d1"
      },
      "source": [
        "d= stats.kruskal(Ba,Co,Hi,Ma,Da)\n",
        "print(d)"
      ],
      "execution_count": 27,
      "outputs": [
        {
          "output_type": "stream",
          "text": [
            "KruskalResult(statistic=12.234061758188824, pvalue=0.015693004298603028)\n"
          ],
          "name": "stdout"
        }
      ]
    },
    {
      "cell_type": "code",
      "metadata": {
        "colab": {
          "base_uri": "https://localhost:8080/",
          "height": 537
        },
        "id": "jh1ywVd-YXb9",
        "outputId": "885aec7b-1100-402a-941c-cec89b08634f"
      },
      "source": [
        "plt.figure(figsize=(15,5))\n",
        "sns.distplot(Ba,hist=False,label='Bachelor')\n",
        "sns.distplot(Co,hist=False,label='College')\n",
        "sns.distplot(Hi,hist=False,label='High School or Below')\n",
        "sns.distplot(Ma,hist=False,label='Master')\n",
        "sns.distplot(Da,hist=False,label='Doctor')\n",
        "plt.title(\"Different Education level comparsion with CLV\")\n",
        "# plt.savefig(\"Education.png\")\n",
        "plt.show()"
      ],
      "execution_count": 28,
      "outputs": [
        {
          "output_type": "stream",
          "text": [
            "/usr/local/lib/python3.7/dist-packages/seaborn/distributions.py:2557: FutureWarning: `distplot` is a deprecated function and will be removed in a future version. Please adapt your code to use either `displot` (a figure-level function with similar flexibility) or `kdeplot` (an axes-level function for kernel density plots).\n",
            "  warnings.warn(msg, FutureWarning)\n",
            "/usr/local/lib/python3.7/dist-packages/seaborn/distributions.py:2557: FutureWarning: `distplot` is a deprecated function and will be removed in a future version. Please adapt your code to use either `displot` (a figure-level function with similar flexibility) or `kdeplot` (an axes-level function for kernel density plots).\n",
            "  warnings.warn(msg, FutureWarning)\n",
            "/usr/local/lib/python3.7/dist-packages/seaborn/distributions.py:2557: FutureWarning: `distplot` is a deprecated function and will be removed in a future version. Please adapt your code to use either `displot` (a figure-level function with similar flexibility) or `kdeplot` (an axes-level function for kernel density plots).\n",
            "  warnings.warn(msg, FutureWarning)\n",
            "/usr/local/lib/python3.7/dist-packages/seaborn/distributions.py:2557: FutureWarning: `distplot` is a deprecated function and will be removed in a future version. Please adapt your code to use either `displot` (a figure-level function with similar flexibility) or `kdeplot` (an axes-level function for kernel density plots).\n",
            "  warnings.warn(msg, FutureWarning)\n",
            "/usr/local/lib/python3.7/dist-packages/seaborn/distributions.py:2557: FutureWarning: `distplot` is a deprecated function and will be removed in a future version. Please adapt your code to use either `displot` (a figure-level function with similar flexibility) or `kdeplot` (an axes-level function for kernel density plots).\n",
            "  warnings.warn(msg, FutureWarning)\n"
          ],
          "name": "stderr"
        },
        {
          "output_type": "display_data",
          "data": {
            "image/png": "[encoded data removed]",
            "text/plain": [
              "<Figure size 1080x360 with 1 Axes>"
            ]
          },
          "metadata": {
            "tags": [],
            "needs_background": "light"
          }
        }
      ]
    },
    {
      "cell_type": "markdown",
      "metadata": {
        "id": "Wh2OGZtqYXb-"
      },
      "source": [
        "p-value < 0.05 reject H0, Education is significant in predicting CLV"
      ]
    },
    {
      "cell_type": "code",
      "metadata": {
        "id": "mdP6Mj9FYXb-"
      },
      "source": [
        "Ba=df[df['EmploymentStatus']=='Employed']['CLV']\n",
        "Co=df[df['EmploymentStatus']=='Unemployed']['CLV']\n",
        "Hi=df[df['EmploymentStatus']=='Medical Leave']['CLV']\n",
        "Ma=df[df['EmploymentStatus']=='Disabled']['CLV']\n",
        "Da=df[df['EmploymentStatus']=='Retired']['CLV']"
      ],
      "execution_count": 29,
      "outputs": []
    },
    {
      "cell_type": "code",
      "metadata": {
        "colab": {
          "base_uri": "https://localhost:8080/"
        },
        "id": "VVtca0NiYXb-",
        "outputId": "90b2724c-56ff-446a-d20d-858194dc6ef0"
      },
      "source": [
        "e = stats.kruskal(Ba,Co,Hi,Ma,Da)\n",
        "print(e)"
      ],
      "execution_count": 30,
      "outputs": [
        {
          "output_type": "stream",
          "text": [
            "KruskalResult(statistic=42.56159302970864, pvalue=1.2758458797542519e-08)\n"
          ],
          "name": "stdout"
        }
      ]
    },
    {
      "cell_type": "markdown",
      "metadata": {
        "id": "DShwPlwrYXb-"
      },
      "source": [
        "p-value < 0.05 reject H0, EmploymentStatus is significant in predicting CLV"
      ]
    },
    {
      "cell_type": "code",
      "metadata": {
        "id": "OM1S_FW0YXb-"
      },
      "source": [
        "Ba=df[df['Location Code']=='Suburban']['CLV']\n",
        "Co=df[df['Location Code']=='Rural']['CLV']\n",
        "Hi=df[df['Location Code']=='Urban']['CLV']"
      ],
      "execution_count": 31,
      "outputs": []
    },
    {
      "cell_type": "code",
      "metadata": {
        "colab": {
          "base_uri": "https://localhost:8080/"
        },
        "id": "ezv9fmA0YXb-",
        "outputId": "fc29a8ca-de9e-49a8-9911-bea0e014619a"
      },
      "source": [
        "g = stats.kruskal(Ba,Co,Hi)\n",
        "print(g)"
      ],
      "execution_count": 32,
      "outputs": [
        {
          "output_type": "stream",
          "text": [
            "KruskalResult(statistic=2.4638212999332567, pvalue=0.29173464205664124)\n"
          ],
          "name": "stdout"
        }
      ]
    },
    {
      "cell_type": "markdown",
      "metadata": {
        "id": "2UCs_2bdYXb-"
      },
      "source": [
        "p-value < 0.05 reject H0, Location Code can be significant in predicting CLV"
      ]
    },
    {
      "cell_type": "code",
      "metadata": {
        "id": "fLRwotLIYXb-"
      },
      "source": [
        "Ba=df[df['Marital Status']=='Married']['CLV']\n",
        "Co=df[df['Marital Status']=='Single']['CLV']\n",
        "Hi=df[df['Marital Status']=='Divorced']['CLV']"
      ],
      "execution_count": 33,
      "outputs": []
    },
    {
      "cell_type": "code",
      "metadata": {
        "scrolled": true,
        "colab": {
          "base_uri": "https://localhost:8080/"
        },
        "id": "VVp8Ht0sYXb_",
        "outputId": "0c8a0756-dd72-4baa-a328-4a9c3d83908d"
      },
      "source": [
        "h = stats.kruskal(Ba,Co,Hi)\n",
        "print(h)"
      ],
      "execution_count": 34,
      "outputs": [
        {
          "output_type": "stream",
          "text": [
            "KruskalResult(statistic=20.895798766808223, pvalue=2.9009146434700455e-05)\n"
          ],
          "name": "stdout"
        }
      ]
    },
    {
      "cell_type": "markdown",
      "metadata": {
        "id": "A0uG1RjrYXb_"
      },
      "source": [
        "p-value < 0.05 reject H0, Marital Status can be significant in predicting CLV"
      ]
    },
    {
      "cell_type": "code",
      "metadata": {
        "id": "LrXYh0pLYXb_"
      },
      "source": [
        "Ba=df[df['Number of Open Complaints']==0]['CLV']\n",
        "Co=df[df['Number of Open Complaints']==1]['CLV']\n",
        "Hi=df[df['Number of Open Complaints']==2]['CLV']\n",
        "Ma=df[df['Number of Open Complaints']==3]['CLV']\n",
        "Da=df[df['Number of Open Complaints']==4]['CLV']\n",
        "As=df[df['Number of Open Complaints']==5]['CLV']"
      ],
      "execution_count": 35,
      "outputs": []
    },
    {
      "cell_type": "code",
      "metadata": {
        "id": "dc2zK28XYXb_",
        "colab": {
          "base_uri": "https://localhost:8080/"
        },
        "outputId": "8b6a892f-6eed-430e-b627-992cf8b817ab"
      },
      "source": [
        "o = stats.kruskal(Ba,Co,Hi,Ma,Da,As)\n",
        "print(o)"
      ],
      "execution_count": 36,
      "outputs": [
        {
          "output_type": "stream",
          "text": [
            "KruskalResult(statistic=29.160617988301833, pvalue=2.1564409504417123e-05)\n"
          ],
          "name": "stdout"
        }
      ]
    },
    {
      "cell_type": "markdown",
      "metadata": {
        "id": "BhWWaAEYYXb_"
      },
      "source": [
        "p-value < 0.05 reject H0, Number of Open Complaints can be significant in predicting CLV"
      ]
    },
    {
      "cell_type": "code",
      "metadata": {
        "id": "EvbKdYzSYXb_"
      },
      "source": [
        "Ba=df[df['Number of Policies']==1]['CLV']\n",
        "Co=df[df['Number of Policies']==2]['CLV']\n",
        "Hi=df[df['Number of Policies']==3]['CLV']"
      ],
      "execution_count": 37,
      "outputs": []
    },
    {
      "cell_type": "code",
      "metadata": {
        "id": "dBS7d1a_YXcA",
        "colab": {
          "base_uri": "https://localhost:8080/"
        },
        "outputId": "9393e3ad-df7a-4d50-f184-c590465a8a37"
      },
      "source": [
        "p = stats.kruskal(Ba,Co,Hi)\n",
        "print(p)"
      ],
      "execution_count": 38,
      "outputs": [
        {
          "output_type": "stream",
          "text": [
            "KruskalResult(statistic=5017.7060662040785, pvalue=0.0)\n"
          ],
          "name": "stdout"
        }
      ]
    },
    {
      "cell_type": "markdown",
      "metadata": {
        "id": "eatBOBQCYXcA"
      },
      "source": [
        "p-value < 0.05 reject H0, Number of Policies can be significant in predicting CLV"
      ]
    },
    {
      "cell_type": "code",
      "metadata": {
        "id": "oNmj4D5sYXcA"
      },
      "source": [
        "Ba=df[df['Policy Type']=='Personal Auto']['CLV']\n",
        "Co=df[df['Policy Type']=='Corporate Auto']['CLV']\n",
        "Hi=df[df['Policy Type']=='Special Auto']['CLV']"
      ],
      "execution_count": 39,
      "outputs": []
    },
    {
      "cell_type": "code",
      "metadata": {
        "id": "WriIkgjwYXcA",
        "colab": {
          "base_uri": "https://localhost:8080/"
        },
        "outputId": "44829bf1-b7bf-4b50-ffe3-0b4eb33f34a1"
      },
      "source": [
        "i = stats.kruskal(Ba,Co,Hi)\n",
        "print(i)"
      ],
      "execution_count": 40,
      "outputs": [
        {
          "output_type": "stream",
          "text": [
            "KruskalResult(statistic=4.6074986354931795, pvalue=0.0998836452694168)\n"
          ],
          "name": "stdout"
        }
      ]
    },
    {
      "cell_type": "markdown",
      "metadata": {
        "id": "YskXQQrmYXcA"
      },
      "source": [
        "p-value > 0.05 failed to reject H0, Policy Type may not be significant in predicting CLV"
      ]
    },
    {
      "cell_type": "code",
      "metadata": {
        "id": "OeFICwDmYXcA"
      },
      "source": [
        "Ba=df[df['Policy']=='Personal L3']['CLV']\n",
        "Co=df[df['Policy']=='Personal L2']['CLV']\n",
        "Hi=df[df['Policy']=='Personal L1']['CLV']\n",
        "Ma=df[df['Policy']=='Corporate L3']['CLV']\n",
        "Da=df[df['Policy']=='Corporate L2']['CLV']\n",
        "Ca=df[df['Policy']=='Corporate L1']['CLV']\n",
        "s1=df[df['Policy']=='Special L2']['CLV']\n",
        "s2=df[df['Policy']=='Special L3']['CLV']\n",
        "s3=df[df['Policy']=='Special L1']['CLV']"
      ],
      "execution_count": 41,
      "outputs": []
    },
    {
      "cell_type": "code",
      "metadata": {
        "id": "EcDLRXCXYXcB",
        "colab": {
          "base_uri": "https://localhost:8080/"
        },
        "outputId": "9056f66f-6185-45dc-f0c3-52573e9f799d"
      },
      "source": [
        "j =stats.kruskal(Ba,Co,Hi,Ma,Da,Ca,s1,s2,s3)\n",
        "print(j)"
      ],
      "execution_count": 42,
      "outputs": [
        {
          "output_type": "stream",
          "text": [
            "KruskalResult(statistic=7.944351884462466, pvalue=0.4389248352544014)\n"
          ],
          "name": "stdout"
        }
      ]
    },
    {
      "cell_type": "markdown",
      "metadata": {
        "id": "5CVJVosDYXcB"
      },
      "source": [
        "p-value > 0.05 failed to reject H0, Policy may not be significant in predicting CLV"
      ]
    },
    {
      "cell_type": "code",
      "metadata": {
        "id": "wW7uPfnRYXcB"
      },
      "source": [
        "Ba=df[df['Renew Offer Type']=='Offer1']['CLV']\n",
        "Co=df[df['Renew Offer Type']=='Offer2']['CLV']\n",
        "Hi=df[df['Renew Offer Type']=='Offer3']['CLV']\n",
        "Ma=df[df['Renew Offer Type']=='Offer4']['CLV']"
      ],
      "execution_count": 43,
      "outputs": []
    },
    {
      "cell_type": "code",
      "metadata": {
        "id": "4duJ4IDNYXcB",
        "colab": {
          "base_uri": "https://localhost:8080/"
        },
        "outputId": "d9595967-cc16-45b2-e87d-3353bbb45ad0"
      },
      "source": [
        "k =stats.kruskal(Ba,Co,Hi,Ma)\n",
        "print(k)"
      ],
      "execution_count": 44,
      "outputs": [
        {
          "output_type": "stream",
          "text": [
            "KruskalResult(statistic=168.90219457792458, pvalue=2.196144881912684e-36)\n"
          ],
          "name": "stdout"
        }
      ]
    },
    {
      "cell_type": "markdown",
      "metadata": {
        "id": "IF4oRZzfYXcB"
      },
      "source": [
        "p-value < 0.05 reject H0, Number of Policies can be significant in predicting CLV"
      ]
    },
    {
      "cell_type": "code",
      "metadata": {
        "id": "CjqiGOy9YXcB"
      },
      "source": [
        "Ba=df[df['Sales Channel']=='Agent']['CLV']\n",
        "Co=df[df['Sales Channel']=='Branch']['CLV']\n",
        "Hi=df[df['Sales Channel']=='Call Center']['CLV']\n",
        "Ma=df[df['Sales Channel']=='Web']['CLV']"
      ],
      "execution_count": 45,
      "outputs": []
    },
    {
      "cell_type": "code",
      "metadata": {
        "id": "Vg6OtlEsYXcB",
        "colab": {
          "base_uri": "https://localhost:8080/"
        },
        "outputId": "ff73a062-3358-431e-defc-2b650e38c494"
      },
      "source": [
        "l = stats.kruskal(Ba,Co,Hi,Ma)\n",
        "print(l)"
      ],
      "execution_count": 46,
      "outputs": [
        {
          "output_type": "stream",
          "text": [
            "KruskalResult(statistic=4.491751501229693, pvalue=0.2130272157209903)\n"
          ],
          "name": "stdout"
        }
      ]
    },
    {
      "cell_type": "markdown",
      "metadata": {
        "id": "zXaeFqXwYXcB"
      },
      "source": [
        "p-value > 0.05 failed to reject H0, Sales Channel may not be significant in predicting CLV"
      ]
    },
    {
      "cell_type": "code",
      "metadata": {
        "id": "ljJApsdSYXcC"
      },
      "source": [
        "Ba=df[df['Vehicle Class']=='Four-Door Car']['CLV']\n",
        "Co=df[df['Vehicle Class']=='Two-Door Car']['CLV']\n",
        "Hi=df[df['Vehicle Class']=='SUV']['CLV']\n",
        "Ma=df[df['Vehicle Class']=='Sports Car']['CLV']\n",
        "Da=df[df['Vehicle Class']=='Luxury SUV']['CLV']\n",
        "Ca=df[df['Vehicle Class']=='Luxury Car']['CLV']"
      ],
      "execution_count": 47,
      "outputs": []
    },
    {
      "cell_type": "code",
      "metadata": {
        "id": "ITBtdvk6YXcC",
        "colab": {
          "base_uri": "https://localhost:8080/"
        },
        "outputId": "144c8f51-1cb1-4374-cdb9-fa8000b15647"
      },
      "source": [
        "m = stats.kruskal(Ba,Co,Hi,Ma,Da,Ca)\n",
        "print(m)"
      ],
      "execution_count": 48,
      "outputs": [
        {
          "output_type": "stream",
          "text": [
            "KruskalResult(statistic=1310.5494960284416, pvalue=3.309676344717952e-281)\n"
          ],
          "name": "stdout"
        }
      ]
    },
    {
      "cell_type": "markdown",
      "metadata": {
        "id": "F4lfx_E8YXcC"
      },
      "source": [
        "p-value < 0.05 reject H0, Vehicle Class can be significant in predicting CLV"
      ]
    },
    {
      "cell_type": "code",
      "metadata": {
        "id": "-3bAeBbcYXcC"
      },
      "source": [
        "Ba=df[df['Vehicle Size']=='Medsize']['CLV']\n",
        "Co=df[df['Vehicle Size']=='Small']['CLV']\n",
        "Hi=df[df['Vehicle Size']=='Large']['CLV']"
      ],
      "execution_count": 49,
      "outputs": []
    },
    {
      "cell_type": "code",
      "metadata": {
        "id": "SC0fHJZNYXcC",
        "colab": {
          "base_uri": "https://localhost:8080/"
        },
        "outputId": "86a535b1-01f1-4683-843e-af1fb91b0dd1"
      },
      "source": [
        "n =stats.kruskal(Ba,Co,Hi)\n",
        "print(n)"
      ],
      "execution_count": 50,
      "outputs": [
        {
          "output_type": "stream",
          "text": [
            "KruskalResult(statistic=9.564995661218877, pvalue=0.00837505335446059)\n"
          ],
          "name": "stdout"
        }
      ]
    },
    {
      "cell_type": "markdown",
      "metadata": {
        "id": "XaMBTAi0YXcC"
      },
      "source": [
        "p-value < 0.05 reject H0, Vehicle Class can be significant in predicting CLV"
      ]
    },
    {
      "cell_type": "code",
      "metadata": {
        "id": "n2Mhc8PjYXcC",
        "colab": {
          "base_uri": "https://localhost:8080/"
        },
        "outputId": "128d22f2-c0da-4dde-e01f-acab89e50034"
      },
      "source": [
        "columns_cat"
      ],
      "execution_count": 51,
      "outputs": [
        {
          "output_type": "execute_result",
          "data": {
            "text/plain": [
              "['Customer',\n",
              " 'State',\n",
              " 'Response',\n",
              " 'Coverage',\n",
              " 'Education',\n",
              " 'EmploymentStatus',\n",
              " 'Gender',\n",
              " 'Location Code',\n",
              " 'Marital Status',\n",
              " 'Policy Type',\n",
              " 'Policy',\n",
              " 'Renew Offer Type',\n",
              " 'Sales Channel',\n",
              " 'Vehicle Class',\n",
              " 'Vehicle Size',\n",
              " 'Number of Open Complaints',\n",
              " 'Number of Policies']"
            ]
          },
          "metadata": {
            "tags": []
          },
          "execution_count": 51
        }
      ]
    },
    {
      "cell_type": "code",
      "metadata": {
        "id": "lHND6wHWYXcD"
      },
      "source": [
        "cat_cols.drop(\"Customer\",axis=1,inplace=True)"
      ],
      "execution_count": 52,
      "outputs": []
    },
    {
      "cell_type": "code",
      "metadata": {
        "id": "2LrweHu1YXcD",
        "colab": {
          "base_uri": "https://localhost:8080/",
          "height": 786
        },
        "outputId": "7ddb7540-37cd-49d0-bd75-5430f8b11860"
      },
      "source": [
        "cat_cols"
      ],
      "execution_count": 53,
      "outputs": [
        {
          "output_type": "execute_result",
          "data": {
            "text/html": [
              "<div>\n",
              "<style scoped>\n",
              "    .dataframe tbody tr th:only-of-type {\n",
              "        vertical-align: middle;\n",
              "    }\n",
              "\n",
              "    .dataframe tbody tr th {\n",
              "        vertical-align: top;\n",
              "    }\n",
              "\n",
              "    .dataframe thead th {\n",
              "        text-align: right;\n",
              "    }\n",
              "</style>\n",
              "<table border=\"1\" class=\"dataframe\">\n",
              "  <thead>\n",
              "    <tr style=\"text-align: right;\">\n",
              "      <th></th>\n",
              "      <th>State</th>\n",
              "      <th>Response</th>\n",
              "      <th>Coverage</th>\n",
              "      <th>Education</th>\n",
              "      <th>EmploymentStatus</th>\n",
              "      <th>Gender</th>\n",
              "      <th>Location Code</th>\n",
              "      <th>Marital Status</th>\n",
              "      <th>Policy Type</th>\n",
              "      <th>Policy</th>\n",
              "      <th>Renew Offer Type</th>\n",
              "      <th>Sales Channel</th>\n",
              "      <th>Vehicle Class</th>\n",
              "      <th>Vehicle Size</th>\n",
              "      <th>Number of Open Complaints</th>\n",
              "      <th>Number of Policies</th>\n",
              "    </tr>\n",
              "  </thead>\n",
              "  <tbody>\n",
              "    <tr>\n",
              "      <th>0</th>\n",
              "      <td>Washington</td>\n",
              "      <td>No</td>\n",
              "      <td>Basic</td>\n",
              "      <td>Bachelor</td>\n",
              "      <td>Employed</td>\n",
              "      <td>F</td>\n",
              "      <td>Suburban</td>\n",
              "      <td>Married</td>\n",
              "      <td>Corporate Auto</td>\n",
              "      <td>Corporate L3</td>\n",
              "      <td>Offer1</td>\n",
              "      <td>Agent</td>\n",
              "      <td>Two-Door Car</td>\n",
              "      <td>Medsize</td>\n",
              "      <td>0</td>\n",
              "      <td>1</td>\n",
              "    </tr>\n",
              "    <tr>\n",
              "      <th>1</th>\n",
              "      <td>Arizona</td>\n",
              "      <td>No</td>\n",
              "      <td>Extended</td>\n",
              "      <td>Bachelor</td>\n",
              "      <td>Unemployed</td>\n",
              "      <td>F</td>\n",
              "      <td>Suburban</td>\n",
              "      <td>Single</td>\n",
              "      <td>Personal Auto</td>\n",
              "      <td>Personal L3</td>\n",
              "      <td>Offer3</td>\n",
              "      <td>Agent</td>\n",
              "      <td>Four-Door Car</td>\n",
              "      <td>Medsize</td>\n",
              "      <td>0</td>\n",
              "      <td>8</td>\n",
              "    </tr>\n",
              "    <tr>\n",
              "      <th>2</th>\n",
              "      <td>Nevada</td>\n",
              "      <td>No</td>\n",
              "      <td>Premium</td>\n",
              "      <td>Bachelor</td>\n",
              "      <td>Employed</td>\n",
              "      <td>F</td>\n",
              "      <td>Suburban</td>\n",
              "      <td>Married</td>\n",
              "      <td>Personal Auto</td>\n",
              "      <td>Personal L3</td>\n",
              "      <td>Offer1</td>\n",
              "      <td>Agent</td>\n",
              "      <td>Two-Door Car</td>\n",
              "      <td>Medsize</td>\n",
              "      <td>0</td>\n",
              "      <td>2</td>\n",
              "    </tr>\n",
              "    <tr>\n",
              "      <th>3</th>\n",
              "      <td>California</td>\n",
              "      <td>No</td>\n",
              "      <td>Basic</td>\n",
              "      <td>Bachelor</td>\n",
              "      <td>Unemployed</td>\n",
              "      <td>M</td>\n",
              "      <td>Suburban</td>\n",
              "      <td>Married</td>\n",
              "      <td>Corporate Auto</td>\n",
              "      <td>Corporate L2</td>\n",
              "      <td>Offer1</td>\n",
              "      <td>Call Center</td>\n",
              "      <td>SUV</td>\n",
              "      <td>Medsize</td>\n",
              "      <td>0</td>\n",
              "      <td>7</td>\n",
              "    </tr>\n",
              "    <tr>\n",
              "      <th>4</th>\n",
              "      <td>Washington</td>\n",
              "      <td>No</td>\n",
              "      <td>Basic</td>\n",
              "      <td>Bachelor</td>\n",
              "      <td>Employed</td>\n",
              "      <td>M</td>\n",
              "      <td>Rural</td>\n",
              "      <td>Single</td>\n",
              "      <td>Personal Auto</td>\n",
              "      <td>Personal L1</td>\n",
              "      <td>Offer1</td>\n",
              "      <td>Agent</td>\n",
              "      <td>Four-Door Car</td>\n",
              "      <td>Medsize</td>\n",
              "      <td>0</td>\n",
              "      <td>1</td>\n",
              "    </tr>\n",
              "    <tr>\n",
              "      <th>...</th>\n",
              "      <td>...</td>\n",
              "      <td>...</td>\n",
              "      <td>...</td>\n",
              "      <td>...</td>\n",
              "      <td>...</td>\n",
              "      <td>...</td>\n",
              "      <td>...</td>\n",
              "      <td>...</td>\n",
              "      <td>...</td>\n",
              "      <td>...</td>\n",
              "      <td>...</td>\n",
              "      <td>...</td>\n",
              "      <td>...</td>\n",
              "      <td>...</td>\n",
              "      <td>...</td>\n",
              "      <td>...</td>\n",
              "    </tr>\n",
              "    <tr>\n",
              "      <th>9129</th>\n",
              "      <td>California</td>\n",
              "      <td>No</td>\n",
              "      <td>Basic</td>\n",
              "      <td>Bachelor</td>\n",
              "      <td>Employed</td>\n",
              "      <td>M</td>\n",
              "      <td>Urban</td>\n",
              "      <td>Married</td>\n",
              "      <td>Personal Auto</td>\n",
              "      <td>Personal L1</td>\n",
              "      <td>Offer2</td>\n",
              "      <td>Web</td>\n",
              "      <td>Four-Door Car</td>\n",
              "      <td>Medsize</td>\n",
              "      <td>0</td>\n",
              "      <td>2</td>\n",
              "    </tr>\n",
              "    <tr>\n",
              "      <th>9130</th>\n",
              "      <td>California</td>\n",
              "      <td>Yes</td>\n",
              "      <td>Extended</td>\n",
              "      <td>College</td>\n",
              "      <td>Employed</td>\n",
              "      <td>F</td>\n",
              "      <td>Suburban</td>\n",
              "      <td>Divorced</td>\n",
              "      <td>Corporate Auto</td>\n",
              "      <td>Corporate L3</td>\n",
              "      <td>Offer1</td>\n",
              "      <td>Branch</td>\n",
              "      <td>Four-Door Car</td>\n",
              "      <td>Medsize</td>\n",
              "      <td>0</td>\n",
              "      <td>1</td>\n",
              "    </tr>\n",
              "    <tr>\n",
              "      <th>9131</th>\n",
              "      <td>California</td>\n",
              "      <td>No</td>\n",
              "      <td>Extended</td>\n",
              "      <td>Bachelor</td>\n",
              "      <td>Unemployed</td>\n",
              "      <td>M</td>\n",
              "      <td>Suburban</td>\n",
              "      <td>Single</td>\n",
              "      <td>Corporate Auto</td>\n",
              "      <td>Corporate L2</td>\n",
              "      <td>Offer1</td>\n",
              "      <td>Branch</td>\n",
              "      <td>Four-Door Car</td>\n",
              "      <td>Medsize</td>\n",
              "      <td>3</td>\n",
              "      <td>2</td>\n",
              "    </tr>\n",
              "    <tr>\n",
              "      <th>9132</th>\n",
              "      <td>California</td>\n",
              "      <td>No</td>\n",
              "      <td>Extended</td>\n",
              "      <td>College</td>\n",
              "      <td>Employed</td>\n",
              "      <td>M</td>\n",
              "      <td>Suburban</td>\n",
              "      <td>Married</td>\n",
              "      <td>Personal Auto</td>\n",
              "      <td>Personal L2</td>\n",
              "      <td>Offer3</td>\n",
              "      <td>Branch</td>\n",
              "      <td>Four-Door Car</td>\n",
              "      <td>Large</td>\n",
              "      <td>0</td>\n",
              "      <td>3</td>\n",
              "    </tr>\n",
              "    <tr>\n",
              "      <th>9133</th>\n",
              "      <td>California</td>\n",
              "      <td>No</td>\n",
              "      <td>Extended</td>\n",
              "      <td>College</td>\n",
              "      <td>Unemployed</td>\n",
              "      <td>M</td>\n",
              "      <td>Suburban</td>\n",
              "      <td>Single</td>\n",
              "      <td>Corporate Auto</td>\n",
              "      <td>Corporate L3</td>\n",
              "      <td>Offer4</td>\n",
              "      <td>Call Center</td>\n",
              "      <td>Two-Door Car</td>\n",
              "      <td>Medsize</td>\n",
              "      <td>0</td>\n",
              "      <td>1</td>\n",
              "    </tr>\n",
              "  </tbody>\n",
              "</table>\n",
              "<p>9134 rows × 16 columns</p>\n",
              "</div>"
            ],
            "text/plain": [
              "           State Response  ... Number of Open Complaints Number of Policies\n",
              "0     Washington       No  ...                         0                  1\n",
              "1        Arizona       No  ...                         0                  8\n",
              "2         Nevada       No  ...                         0                  2\n",
              "3     California       No  ...                         0                  7\n",
              "4     Washington       No  ...                         0                  1\n",
              "...          ...      ...  ...                       ...                ...\n",
              "9129  California       No  ...                         0                  2\n",
              "9130  California      Yes  ...                         0                  1\n",
              "9131  California       No  ...                         3                  2\n",
              "9132  California       No  ...                         0                  3\n",
              "9133  California       No  ...                         0                  1\n",
              "\n",
              "[9134 rows x 16 columns]"
            ]
          },
          "metadata": {
            "tags": []
          },
          "execution_count": 53
        }
      ]
    },
    {
      "cell_type": "code",
      "metadata": {
        "id": "Fj7rzX4xYXcD"
      },
      "source": [
        "p_values = [a[1],b[1],c[1],d[1],e[1],f[1],g[1],h[1],i[1],j[1],k[1],l[1],m[1],n[1],o[1],p[1]]"
      ],
      "execution_count": 54,
      "outputs": []
    },
    {
      "cell_type": "code",
      "metadata": {
        "id": "RDmWzqpaYXcD",
        "colab": {
          "base_uri": "https://localhost:8080/"
        },
        "outputId": "92f9c253-3435-445b-b3cc-2d1ec56b40ea"
      },
      "source": [
        "p_values"
      ],
      "execution_count": 55,
      "outputs": [
        {
          "output_type": "execute_result",
          "data": {
            "text/plain": [
              "[0.27998232358818953,\n",
              " 0.24374651528224917,\n",
              " 7.648852917746348e-110,\n",
              " 0.015693004298603028,\n",
              " 1.2758458797542519e-08,\n",
              " 0.2584436122645599,\n",
              " 0.29173464205664124,\n",
              " 2.9009146434700455e-05,\n",
              " 0.0998836452694168,\n",
              " 0.4389248352544014,\n",
              " 2.196144881912684e-36,\n",
              " 0.2130272157209903,\n",
              " 3.309676344717952e-281,\n",
              " 0.00837505335446059,\n",
              " 2.1564409504417123e-05,\n",
              " 0.0]"
            ]
          },
          "metadata": {
            "tags": []
          },
          "execution_count": 55
        }
      ]
    },
    {
      "cell_type": "code",
      "metadata": {
        "id": "G-EZY3mPYXcD",
        "colab": {
          "base_uri": "https://localhost:8080/"
        },
        "outputId": "df58661c-f93a-4791-ae1a-7df6e8143c17"
      },
      "source": [
        "len(p_values)"
      ],
      "execution_count": 56,
      "outputs": [
        {
          "output_type": "execute_result",
          "data": {
            "text/plain": [
              "16"
            ]
          },
          "metadata": {
            "tags": []
          },
          "execution_count": 56
        }
      ]
    },
    {
      "cell_type": "code",
      "metadata": {
        "id": "G8mdQminYXcD",
        "colab": {
          "base_uri": "https://localhost:8080/"
        },
        "outputId": "61e68d60-e371-4e6e-9694-86691ace12a8"
      },
      "source": [
        "len(cat_cols.columns)"
      ],
      "execution_count": 57,
      "outputs": [
        {
          "output_type": "execute_result",
          "data": {
            "text/plain": [
              "16"
            ]
          },
          "metadata": {
            "tags": []
          },
          "execution_count": 57
        }
      ]
    },
    {
      "cell_type": "code",
      "metadata": {
        "id": "pZayS19vYXcD",
        "colab": {
          "base_uri": "https://localhost:8080/",
          "height": 540
        },
        "outputId": "85e63ab3-02b3-44ce-b3dd-5d34e26c2faf"
      },
      "source": [
        "pd.DataFrame(p_values,index=(cat_cols.columns),columns=['P_Value'])"
      ],
      "execution_count": 58,
      "outputs": [
        {
          "output_type": "execute_result",
          "data": {
            "text/html": [
              "<div>\n",
              "<style scoped>\n",
              "    .dataframe tbody tr th:only-of-type {\n",
              "        vertical-align: middle;\n",
              "    }\n",
              "\n",
              "    .dataframe tbody tr th {\n",
              "        vertical-align: top;\n",
              "    }\n",
              "\n",
              "    .dataframe thead th {\n",
              "        text-align: right;\n",
              "    }\n",
              "</style>\n",
              "<table border=\"1\" class=\"dataframe\">\n",
              "  <thead>\n",
              "    <tr style=\"text-align: right;\">\n",
              "      <th></th>\n",
              "      <th>P_Value</th>\n",
              "    </tr>\n",
              "  </thead>\n",
              "  <tbody>\n",
              "    <tr>\n",
              "      <th>State</th>\n",
              "      <td>2.799823e-01</td>\n",
              "    </tr>\n",
              "    <tr>\n",
              "      <th>Response</th>\n",
              "      <td>2.437465e-01</td>\n",
              "    </tr>\n",
              "    <tr>\n",
              "      <th>Coverage</th>\n",
              "      <td>7.648853e-110</td>\n",
              "    </tr>\n",
              "    <tr>\n",
              "      <th>Education</th>\n",
              "      <td>1.569300e-02</td>\n",
              "    </tr>\n",
              "    <tr>\n",
              "      <th>EmploymentStatus</th>\n",
              "      <td>1.275846e-08</td>\n",
              "    </tr>\n",
              "    <tr>\n",
              "      <th>Gender</th>\n",
              "      <td>2.584436e-01</td>\n",
              "    </tr>\n",
              "    <tr>\n",
              "      <th>Location Code</th>\n",
              "      <td>2.917346e-01</td>\n",
              "    </tr>\n",
              "    <tr>\n",
              "      <th>Marital Status</th>\n",
              "      <td>2.900915e-05</td>\n",
              "    </tr>\n",
              "    <tr>\n",
              "      <th>Policy Type</th>\n",
              "      <td>9.988365e-02</td>\n",
              "    </tr>\n",
              "    <tr>\n",
              "      <th>Policy</th>\n",
              "      <td>4.389248e-01</td>\n",
              "    </tr>\n",
              "    <tr>\n",
              "      <th>Renew Offer Type</th>\n",
              "      <td>2.196145e-36</td>\n",
              "    </tr>\n",
              "    <tr>\n",
              "      <th>Sales Channel</th>\n",
              "      <td>2.130272e-01</td>\n",
              "    </tr>\n",
              "    <tr>\n",
              "      <th>Vehicle Class</th>\n",
              "      <td>3.309676e-281</td>\n",
              "    </tr>\n",
              "    <tr>\n",
              "      <th>Vehicle Size</th>\n",
              "      <td>8.375053e-03</td>\n",
              "    </tr>\n",
              "    <tr>\n",
              "      <th>Number of Open Complaints</th>\n",
              "      <td>2.156441e-05</td>\n",
              "    </tr>\n",
              "    <tr>\n",
              "      <th>Number of Policies</th>\n",
              "      <td>0.000000e+00</td>\n",
              "    </tr>\n",
              "  </tbody>\n",
              "</table>\n",
              "</div>"
            ],
            "text/plain": [
              "                                 P_Value\n",
              "State                       2.799823e-01\n",
              "Response                    2.437465e-01\n",
              "Coverage                   7.648853e-110\n",
              "Education                   1.569300e-02\n",
              "EmploymentStatus            1.275846e-08\n",
              "Gender                      2.584436e-01\n",
              "Location Code               2.917346e-01\n",
              "Marital Status              2.900915e-05\n",
              "Policy Type                 9.988365e-02\n",
              "Policy                      4.389248e-01\n",
              "Renew Offer Type            2.196145e-36\n",
              "Sales Channel               2.130272e-01\n",
              "Vehicle Class              3.309676e-281\n",
              "Vehicle Size                8.375053e-03\n",
              "Number of Open Complaints   2.156441e-05\n",
              "Number of Policies          0.000000e+00"
            ]
          },
          "metadata": {
            "tags": []
          },
          "execution_count": 58
        }
      ]
    },
    {
      "cell_type": "markdown",
      "metadata": {
        "id": "Nx2Q6HBQYXcD"
      },
      "source": [
        "Coverage,Education,EmploymentStatus,Marital Status, Renew Offer Type, Vehicle class, Vehicle class, Number of open complaints and No of Policies play a significant role in predicting the CLV"
      ]
    },
    {
      "cell_type": "code",
      "metadata": {
        "scrolled": true,
        "id": "2psho8XCYXcE",
        "colab": {
          "base_uri": "https://localhost:8080/",
          "height": 202
        },
        "outputId": "17a16990-03b6-4c9f-c37b-cac2085cc76c"
      },
      "source": [
        "numerical_cols.head()"
      ],
      "execution_count": 59,
      "outputs": [
        {
          "output_type": "execute_result",
          "data": {
            "text/html": [
              "<div>\n",
              "<style scoped>\n",
              "    .dataframe tbody tr th:only-of-type {\n",
              "        vertical-align: middle;\n",
              "    }\n",
              "\n",
              "    .dataframe tbody tr th {\n",
              "        vertical-align: top;\n",
              "    }\n",
              "\n",
              "    .dataframe thead th {\n",
              "        text-align: right;\n",
              "    }\n",
              "</style>\n",
              "<table border=\"1\" class=\"dataframe\">\n",
              "  <thead>\n",
              "    <tr style=\"text-align: right;\">\n",
              "      <th></th>\n",
              "      <th>CLV</th>\n",
              "      <th>Income</th>\n",
              "      <th>Monthly Premium Auto</th>\n",
              "      <th>Months Since Last Claim</th>\n",
              "      <th>Months Since Policy Inception</th>\n",
              "      <th>Total Claim Amount</th>\n",
              "    </tr>\n",
              "  </thead>\n",
              "  <tbody>\n",
              "    <tr>\n",
              "      <th>0</th>\n",
              "      <td>2763.519279</td>\n",
              "      <td>56274</td>\n",
              "      <td>69</td>\n",
              "      <td>32</td>\n",
              "      <td>5</td>\n",
              "      <td>384.811147</td>\n",
              "    </tr>\n",
              "    <tr>\n",
              "      <th>1</th>\n",
              "      <td>6979.535903</td>\n",
              "      <td>0</td>\n",
              "      <td>94</td>\n",
              "      <td>13</td>\n",
              "      <td>42</td>\n",
              "      <td>1131.464935</td>\n",
              "    </tr>\n",
              "    <tr>\n",
              "      <th>2</th>\n",
              "      <td>12887.431650</td>\n",
              "      <td>48767</td>\n",
              "      <td>108</td>\n",
              "      <td>18</td>\n",
              "      <td>38</td>\n",
              "      <td>566.472247</td>\n",
              "    </tr>\n",
              "    <tr>\n",
              "      <th>3</th>\n",
              "      <td>7645.861827</td>\n",
              "      <td>0</td>\n",
              "      <td>106</td>\n",
              "      <td>18</td>\n",
              "      <td>65</td>\n",
              "      <td>529.881344</td>\n",
              "    </tr>\n",
              "    <tr>\n",
              "      <th>4</th>\n",
              "      <td>2813.692575</td>\n",
              "      <td>43836</td>\n",
              "      <td>73</td>\n",
              "      <td>12</td>\n",
              "      <td>44</td>\n",
              "      <td>138.130879</td>\n",
              "    </tr>\n",
              "  </tbody>\n",
              "</table>\n",
              "</div>"
            ],
            "text/plain": [
              "            CLV  Income  ...  Months Since Policy Inception  Total Claim Amount\n",
              "0   2763.519279   56274  ...                              5          384.811147\n",
              "1   6979.535903       0  ...                             42         1131.464935\n",
              "2  12887.431650   48767  ...                             38          566.472247\n",
              "3   7645.861827       0  ...                             65          529.881344\n",
              "4   2813.692575   43836  ...                             44          138.130879\n",
              "\n",
              "[5 rows x 6 columns]"
            ]
          },
          "metadata": {
            "tags": []
          },
          "execution_count": 59
        }
      ]
    },
    {
      "cell_type": "code",
      "metadata": {
        "id": "L1hIIazMYXcE",
        "colab": {
          "base_uri": "https://localhost:8080/",
          "height": 406
        },
        "outputId": "c288f8ef-5272-46c3-a092-fe2175da62d3"
      },
      "source": [
        "cat_cols.head()"
      ],
      "execution_count": 60,
      "outputs": [
        {
          "output_type": "execute_result",
          "data": {
            "text/html": [
              "<div>\n",
              "<style scoped>\n",
              "    .dataframe tbody tr th:only-of-type {\n",
              "        vertical-align: middle;\n",
              "    }\n",
              "\n",
              "    .dataframe tbody tr th {\n",
              "        vertical-align: top;\n",
              "    }\n",
              "\n",
              "    .dataframe thead th {\n",
              "        text-align: right;\n",
              "    }\n",
              "</style>\n",
              "<table border=\"1\" class=\"dataframe\">\n",
              "  <thead>\n",
              "    <tr style=\"text-align: right;\">\n",
              "      <th></th>\n",
              "      <th>State</th>\n",
              "      <th>Response</th>\n",
              "      <th>Coverage</th>\n",
              "      <th>Education</th>\n",
              "      <th>EmploymentStatus</th>\n",
              "      <th>Gender</th>\n",
              "      <th>Location Code</th>\n",
              "      <th>Marital Status</th>\n",
              "      <th>Policy Type</th>\n",
              "      <th>Policy</th>\n",
              "      <th>Renew Offer Type</th>\n",
              "      <th>Sales Channel</th>\n",
              "      <th>Vehicle Class</th>\n",
              "      <th>Vehicle Size</th>\n",
              "      <th>Number of Open Complaints</th>\n",
              "      <th>Number of Policies</th>\n",
              "    </tr>\n",
              "  </thead>\n",
              "  <tbody>\n",
              "    <tr>\n",
              "      <th>0</th>\n",
              "      <td>Washington</td>\n",
              "      <td>No</td>\n",
              "      <td>Basic</td>\n",
              "      <td>Bachelor</td>\n",
              "      <td>Employed</td>\n",
              "      <td>F</td>\n",
              "      <td>Suburban</td>\n",
              "      <td>Married</td>\n",
              "      <td>Corporate Auto</td>\n",
              "      <td>Corporate L3</td>\n",
              "      <td>Offer1</td>\n",
              "      <td>Agent</td>\n",
              "      <td>Two-Door Car</td>\n",
              "      <td>Medsize</td>\n",
              "      <td>0</td>\n",
              "      <td>1</td>\n",
              "    </tr>\n",
              "    <tr>\n",
              "      <th>1</th>\n",
              "      <td>Arizona</td>\n",
              "      <td>No</td>\n",
              "      <td>Extended</td>\n",
              "      <td>Bachelor</td>\n",
              "      <td>Unemployed</td>\n",
              "      <td>F</td>\n",
              "      <td>Suburban</td>\n",
              "      <td>Single</td>\n",
              "      <td>Personal Auto</td>\n",
              "      <td>Personal L3</td>\n",
              "      <td>Offer3</td>\n",
              "      <td>Agent</td>\n",
              "      <td>Four-Door Car</td>\n",
              "      <td>Medsize</td>\n",
              "      <td>0</td>\n",
              "      <td>8</td>\n",
              "    </tr>\n",
              "    <tr>\n",
              "      <th>2</th>\n",
              "      <td>Nevada</td>\n",
              "      <td>No</td>\n",
              "      <td>Premium</td>\n",
              "      <td>Bachelor</td>\n",
              "      <td>Employed</td>\n",
              "      <td>F</td>\n",
              "      <td>Suburban</td>\n",
              "      <td>Married</td>\n",
              "      <td>Personal Auto</td>\n",
              "      <td>Personal L3</td>\n",
              "      <td>Offer1</td>\n",
              "      <td>Agent</td>\n",
              "      <td>Two-Door Car</td>\n",
              "      <td>Medsize</td>\n",
              "      <td>0</td>\n",
              "      <td>2</td>\n",
              "    </tr>\n",
              "    <tr>\n",
              "      <th>3</th>\n",
              "      <td>California</td>\n",
              "      <td>No</td>\n",
              "      <td>Basic</td>\n",
              "      <td>Bachelor</td>\n",
              "      <td>Unemployed</td>\n",
              "      <td>M</td>\n",
              "      <td>Suburban</td>\n",
              "      <td>Married</td>\n",
              "      <td>Corporate Auto</td>\n",
              "      <td>Corporate L2</td>\n",
              "      <td>Offer1</td>\n",
              "      <td>Call Center</td>\n",
              "      <td>SUV</td>\n",
              "      <td>Medsize</td>\n",
              "      <td>0</td>\n",
              "      <td>7</td>\n",
              "    </tr>\n",
              "    <tr>\n",
              "      <th>4</th>\n",
              "      <td>Washington</td>\n",
              "      <td>No</td>\n",
              "      <td>Basic</td>\n",
              "      <td>Bachelor</td>\n",
              "      <td>Employed</td>\n",
              "      <td>M</td>\n",
              "      <td>Rural</td>\n",
              "      <td>Single</td>\n",
              "      <td>Personal Auto</td>\n",
              "      <td>Personal L1</td>\n",
              "      <td>Offer1</td>\n",
              "      <td>Agent</td>\n",
              "      <td>Four-Door Car</td>\n",
              "      <td>Medsize</td>\n",
              "      <td>0</td>\n",
              "      <td>1</td>\n",
              "    </tr>\n",
              "  </tbody>\n",
              "</table>\n",
              "</div>"
            ],
            "text/plain": [
              "        State Response  ... Number of Open Complaints Number of Policies\n",
              "0  Washington       No  ...                         0                  1\n",
              "1     Arizona       No  ...                         0                  8\n",
              "2      Nevada       No  ...                         0                  2\n",
              "3  California       No  ...                         0                  7\n",
              "4  Washington       No  ...                         0                  1\n",
              "\n",
              "[5 rows x 16 columns]"
            ]
          },
          "metadata": {
            "tags": []
          },
          "execution_count": 60
        }
      ]
    },
    {
      "cell_type": "code",
      "metadata": {
        "id": "LHQChiiOYXcE",
        "colab": {
          "base_uri": "https://localhost:8080/"
        },
        "outputId": "3039e641-0691-4a8a-d629-b4483a82bf0a"
      },
      "source": [
        "import statsmodels.api as sm"
      ],
      "execution_count": 61,
      "outputs": [
        {
          "output_type": "stream",
          "text": [
            "/usr/local/lib/python3.7/dist-packages/statsmodels/tools/_testing.py:19: FutureWarning: pandas.util.testing is deprecated. Use the functions in the public API at pandas.testing instead.\n",
            "  import pandas.util.testing as tm\n"
          ],
          "name": "stderr"
        }
      ]
    },
    {
      "cell_type": "code",
      "metadata": {
        "id": "TIDZ09oBYXcE"
      },
      "source": [
        "# X=numerical_cols.drop(['CLV'],axis=1)\n",
        "# y=numerical_cols['CLV']\n",
        "# lin_reg=sm.OLS(y,X).fit()\n",
        "# lin_reg.summary()  "
      ],
      "execution_count": 62,
      "outputs": []
    },
    {
      "cell_type": "markdown",
      "metadata": {
        "id": "9fi5tieJYXcE"
      },
      "source": [
        "## Data Preprocessing"
      ]
    },
    {
      "cell_type": "code",
      "metadata": {
        "id": "Y8faG0D5YXcE",
        "colab": {
          "base_uri": "https://localhost:8080/",
          "height": 406
        },
        "outputId": "9a16738f-8bec-4f55-ab65-1e62e9f9bb53"
      },
      "source": [
        "cat_cols.head()"
      ],
      "execution_count": 63,
      "outputs": [
        {
          "output_type": "execute_result",
          "data": {
            "text/html": [
              "<div>\n",
              "<style scoped>\n",
              "    .dataframe tbody tr th:only-of-type {\n",
              "        vertical-align: middle;\n",
              "    }\n",
              "\n",
              "    .dataframe tbody tr th {\n",
              "        vertical-align: top;\n",
              "    }\n",
              "\n",
              "    .dataframe thead th {\n",
              "        text-align: right;\n",
              "    }\n",
              "</style>\n",
              "<table border=\"1\" class=\"dataframe\">\n",
              "  <thead>\n",
              "    <tr style=\"text-align: right;\">\n",
              "      <th></th>\n",
              "      <th>State</th>\n",
              "      <th>Response</th>\n",
              "      <th>Coverage</th>\n",
              "      <th>Education</th>\n",
              "      <th>EmploymentStatus</th>\n",
              "      <th>Gender</th>\n",
              "      <th>Location Code</th>\n",
              "      <th>Marital Status</th>\n",
              "      <th>Policy Type</th>\n",
              "      <th>Policy</th>\n",
              "      <th>Renew Offer Type</th>\n",
              "      <th>Sales Channel</th>\n",
              "      <th>Vehicle Class</th>\n",
              "      <th>Vehicle Size</th>\n",
              "      <th>Number of Open Complaints</th>\n",
              "      <th>Number of Policies</th>\n",
              "    </tr>\n",
              "  </thead>\n",
              "  <tbody>\n",
              "    <tr>\n",
              "      <th>0</th>\n",
              "      <td>Washington</td>\n",
              "      <td>No</td>\n",
              "      <td>Basic</td>\n",
              "      <td>Bachelor</td>\n",
              "      <td>Employed</td>\n",
              "      <td>F</td>\n",
              "      <td>Suburban</td>\n",
              "      <td>Married</td>\n",
              "      <td>Corporate Auto</td>\n",
              "      <td>Corporate L3</td>\n",
              "      <td>Offer1</td>\n",
              "      <td>Agent</td>\n",
              "      <td>Two-Door Car</td>\n",
              "      <td>Medsize</td>\n",
              "      <td>0</td>\n",
              "      <td>1</td>\n",
              "    </tr>\n",
              "    <tr>\n",
              "      <th>1</th>\n",
              "      <td>Arizona</td>\n",
              "      <td>No</td>\n",
              "      <td>Extended</td>\n",
              "      <td>Bachelor</td>\n",
              "      <td>Unemployed</td>\n",
              "      <td>F</td>\n",
              "      <td>Suburban</td>\n",
              "      <td>Single</td>\n",
              "      <td>Personal Auto</td>\n",
              "      <td>Personal L3</td>\n",
              "      <td>Offer3</td>\n",
              "      <td>Agent</td>\n",
              "      <td>Four-Door Car</td>\n",
              "      <td>Medsize</td>\n",
              "      <td>0</td>\n",
              "      <td>8</td>\n",
              "    </tr>\n",
              "    <tr>\n",
              "      <th>2</th>\n",
              "      <td>Nevada</td>\n",
              "      <td>No</td>\n",
              "      <td>Premium</td>\n",
              "      <td>Bachelor</td>\n",
              "      <td>Employed</td>\n",
              "      <td>F</td>\n",
              "      <td>Suburban</td>\n",
              "      <td>Married</td>\n",
              "      <td>Personal Auto</td>\n",
              "      <td>Personal L3</td>\n",
              "      <td>Offer1</td>\n",
              "      <td>Agent</td>\n",
              "      <td>Two-Door Car</td>\n",
              "      <td>Medsize</td>\n",
              "      <td>0</td>\n",
              "      <td>2</td>\n",
              "    </tr>\n",
              "    <tr>\n",
              "      <th>3</th>\n",
              "      <td>California</td>\n",
              "      <td>No</td>\n",
              "      <td>Basic</td>\n",
              "      <td>Bachelor</td>\n",
              "      <td>Unemployed</td>\n",
              "      <td>M</td>\n",
              "      <td>Suburban</td>\n",
              "      <td>Married</td>\n",
              "      <td>Corporate Auto</td>\n",
              "      <td>Corporate L2</td>\n",
              "      <td>Offer1</td>\n",
              "      <td>Call Center</td>\n",
              "      <td>SUV</td>\n",
              "      <td>Medsize</td>\n",
              "      <td>0</td>\n",
              "      <td>7</td>\n",
              "    </tr>\n",
              "    <tr>\n",
              "      <th>4</th>\n",
              "      <td>Washington</td>\n",
              "      <td>No</td>\n",
              "      <td>Basic</td>\n",
              "      <td>Bachelor</td>\n",
              "      <td>Employed</td>\n",
              "      <td>M</td>\n",
              "      <td>Rural</td>\n",
              "      <td>Single</td>\n",
              "      <td>Personal Auto</td>\n",
              "      <td>Personal L1</td>\n",
              "      <td>Offer1</td>\n",
              "      <td>Agent</td>\n",
              "      <td>Four-Door Car</td>\n",
              "      <td>Medsize</td>\n",
              "      <td>0</td>\n",
              "      <td>1</td>\n",
              "    </tr>\n",
              "  </tbody>\n",
              "</table>\n",
              "</div>"
            ],
            "text/plain": [
              "        State Response  ... Number of Open Complaints Number of Policies\n",
              "0  Washington       No  ...                         0                  1\n",
              "1     Arizona       No  ...                         0                  8\n",
              "2      Nevada       No  ...                         0                  2\n",
              "3  California       No  ...                         0                  7\n",
              "4  Washington       No  ...                         0                  1\n",
              "\n",
              "[5 rows x 16 columns]"
            ]
          },
          "metadata": {
            "tags": []
          },
          "execution_count": 63
        }
      ]
    },
    {
      "cell_type": "code",
      "metadata": {
        "id": "ucpxVNaLYXcE"
      },
      "source": [
        "catg=pd.get_dummies(cat_cols,drop_first=True)"
      ],
      "execution_count": 64,
      "outputs": []
    },
    {
      "cell_type": "code",
      "metadata": {
        "id": "2qKK2HFOYXcE",
        "colab": {
          "base_uri": "https://localhost:8080/",
          "height": 202
        },
        "outputId": "139531ec-30b5-4efd-d09d-38a9f878618f"
      },
      "source": [
        "numerical_cols.head()"
      ],
      "execution_count": 65,
      "outputs": [
        {
          "output_type": "execute_result",
          "data": {
            "text/html": [
              "<div>\n",
              "<style scoped>\n",
              "    .dataframe tbody tr th:only-of-type {\n",
              "        vertical-align: middle;\n",
              "    }\n",
              "\n",
              "    .dataframe tbody tr th {\n",
              "        vertical-align: top;\n",
              "    }\n",
              "\n",
              "    .dataframe thead th {\n",
              "        text-align: right;\n",
              "    }\n",
              "</style>\n",
              "<table border=\"1\" class=\"dataframe\">\n",
              "  <thead>\n",
              "    <tr style=\"text-align: right;\">\n",
              "      <th></th>\n",
              "      <th>CLV</th>\n",
              "      <th>Income</th>\n",
              "      <th>Monthly Premium Auto</th>\n",
              "      <th>Months Since Last Claim</th>\n",
              "      <th>Months Since Policy Inception</th>\n",
              "      <th>Total Claim Amount</th>\n",
              "    </tr>\n",
              "  </thead>\n",
              "  <tbody>\n",
              "    <tr>\n",
              "      <th>0</th>\n",
              "      <td>2763.519279</td>\n",
              "      <td>56274</td>\n",
              "      <td>69</td>\n",
              "      <td>32</td>\n",
              "      <td>5</td>\n",
              "      <td>384.811147</td>\n",
              "    </tr>\n",
              "    <tr>\n",
              "      <th>1</th>\n",
              "      <td>6979.535903</td>\n",
              "      <td>0</td>\n",
              "      <td>94</td>\n",
              "      <td>13</td>\n",
              "      <td>42</td>\n",
              "      <td>1131.464935</td>\n",
              "    </tr>\n",
              "    <tr>\n",
              "      <th>2</th>\n",
              "      <td>12887.431650</td>\n",
              "      <td>48767</td>\n",
              "      <td>108</td>\n",
              "      <td>18</td>\n",
              "      <td>38</td>\n",
              "      <td>566.472247</td>\n",
              "    </tr>\n",
              "    <tr>\n",
              "      <th>3</th>\n",
              "      <td>7645.861827</td>\n",
              "      <td>0</td>\n",
              "      <td>106</td>\n",
              "      <td>18</td>\n",
              "      <td>65</td>\n",
              "      <td>529.881344</td>\n",
              "    </tr>\n",
              "    <tr>\n",
              "      <th>4</th>\n",
              "      <td>2813.692575</td>\n",
              "      <td>43836</td>\n",
              "      <td>73</td>\n",
              "      <td>12</td>\n",
              "      <td>44</td>\n",
              "      <td>138.130879</td>\n",
              "    </tr>\n",
              "  </tbody>\n",
              "</table>\n",
              "</div>"
            ],
            "text/plain": [
              "            CLV  Income  ...  Months Since Policy Inception  Total Claim Amount\n",
              "0   2763.519279   56274  ...                              5          384.811147\n",
              "1   6979.535903       0  ...                             42         1131.464935\n",
              "2  12887.431650   48767  ...                             38          566.472247\n",
              "3   7645.861827       0  ...                             65          529.881344\n",
              "4   2813.692575   43836  ...                             44          138.130879\n",
              "\n",
              "[5 rows x 6 columns]"
            ]
          },
          "metadata": {
            "tags": []
          },
          "execution_count": 65
        }
      ]
    },
    {
      "cell_type": "code",
      "metadata": {
        "scrolled": true,
        "id": "COyRfZ0aYXcF",
        "colab": {
          "base_uri": "https://localhost:8080/",
          "height": 272
        },
        "outputId": "45ba3276-d837-45e4-a632-9fc006093867"
      },
      "source": [
        "dfn = pd.concat([numerical_cols,catg],axis=1)\n",
        "dfn.head()"
      ],
      "execution_count": 66,
      "outputs": [
        {
          "output_type": "execute_result",
          "data": {
            "text/html": [
              "<div>\n",
              "<style scoped>\n",
              "    .dataframe tbody tr th:only-of-type {\n",
              "        vertical-align: middle;\n",
              "    }\n",
              "\n",
              "    .dataframe tbody tr th {\n",
              "        vertical-align: top;\n",
              "    }\n",
              "\n",
              "    .dataframe thead th {\n",
              "        text-align: right;\n",
              "    }\n",
              "</style>\n",
              "<table border=\"1\" class=\"dataframe\">\n",
              "  <thead>\n",
              "    <tr style=\"text-align: right;\">\n",
              "      <th></th>\n",
              "      <th>CLV</th>\n",
              "      <th>Income</th>\n",
              "      <th>Monthly Premium Auto</th>\n",
              "      <th>Months Since Last Claim</th>\n",
              "      <th>Months Since Policy Inception</th>\n",
              "      <th>Total Claim Amount</th>\n",
              "      <th>Number of Open Complaints</th>\n",
              "      <th>Number of Policies</th>\n",
              "      <th>State_California</th>\n",
              "      <th>State_Nevada</th>\n",
              "      <th>State_Oregon</th>\n",
              "      <th>State_Washington</th>\n",
              "      <th>Response_Yes</th>\n",
              "      <th>Coverage_Extended</th>\n",
              "      <th>Coverage_Premium</th>\n",
              "      <th>Education_College</th>\n",
              "      <th>Education_Doctor</th>\n",
              "      <th>Education_High School or Below</th>\n",
              "      <th>Education_Master</th>\n",
              "      <th>EmploymentStatus_Employed</th>\n",
              "      <th>EmploymentStatus_Medical Leave</th>\n",
              "      <th>EmploymentStatus_Retired</th>\n",
              "      <th>EmploymentStatus_Unemployed</th>\n",
              "      <th>Gender_M</th>\n",
              "      <th>Location Code_Suburban</th>\n",
              "      <th>Location Code_Urban</th>\n",
              "      <th>Marital Status_Married</th>\n",
              "      <th>Marital Status_Single</th>\n",
              "      <th>Policy Type_Personal Auto</th>\n",
              "      <th>Policy Type_Special Auto</th>\n",
              "      <th>Policy_Corporate L2</th>\n",
              "      <th>Policy_Corporate L3</th>\n",
              "      <th>Policy_Personal L1</th>\n",
              "      <th>Policy_Personal L2</th>\n",
              "      <th>Policy_Personal L3</th>\n",
              "      <th>Policy_Special L1</th>\n",
              "      <th>Policy_Special L2</th>\n",
              "      <th>Policy_Special L3</th>\n",
              "      <th>Renew Offer Type_Offer2</th>\n",
              "      <th>Renew Offer Type_Offer3</th>\n",
              "      <th>Renew Offer Type_Offer4</th>\n",
              "      <th>Sales Channel_Branch</th>\n",
              "      <th>Sales Channel_Call Center</th>\n",
              "      <th>Sales Channel_Web</th>\n",
              "      <th>Vehicle Class_Luxury Car</th>\n",
              "      <th>Vehicle Class_Luxury SUV</th>\n",
              "      <th>Vehicle Class_SUV</th>\n",
              "      <th>Vehicle Class_Sports Car</th>\n",
              "      <th>Vehicle Class_Two-Door Car</th>\n",
              "      <th>Vehicle Size_Medsize</th>\n",
              "      <th>Vehicle Size_Small</th>\n",
              "    </tr>\n",
              "  </thead>\n",
              "  <tbody>\n",
              "    <tr>\n",
              "      <th>0</th>\n",
              "      <td>2763.519279</td>\n",
              "      <td>56274</td>\n",
              "      <td>69</td>\n",
              "      <td>32</td>\n",
              "      <td>5</td>\n",
              "      <td>384.811147</td>\n",
              "      <td>0</td>\n",
              "      <td>1</td>\n",
              "      <td>0</td>\n",
              "      <td>0</td>\n",
              "      <td>0</td>\n",
              "      <td>1</td>\n",
              "      <td>0</td>\n",
              "      <td>0</td>\n",
              "      <td>0</td>\n",
              "      <td>0</td>\n",
              "      <td>0</td>\n",
              "      <td>0</td>\n",
              "      <td>0</td>\n",
              "      <td>1</td>\n",
              "      <td>0</td>\n",
              "      <td>0</td>\n",
              "      <td>0</td>\n",
              "      <td>0</td>\n",
              "      <td>1</td>\n",
              "      <td>0</td>\n",
              "      <td>1</td>\n",
              "      <td>0</td>\n",
              "      <td>0</td>\n",
              "      <td>0</td>\n",
              "      <td>0</td>\n",
              "      <td>1</td>\n",
              "      <td>0</td>\n",
              "      <td>0</td>\n",
              "      <td>0</td>\n",
              "      <td>0</td>\n",
              "      <td>0</td>\n",
              "      <td>0</td>\n",
              "      <td>0</td>\n",
              "      <td>0</td>\n",
              "      <td>0</td>\n",
              "      <td>0</td>\n",
              "      <td>0</td>\n",
              "      <td>0</td>\n",
              "      <td>0</td>\n",
              "      <td>0</td>\n",
              "      <td>0</td>\n",
              "      <td>0</td>\n",
              "      <td>1</td>\n",
              "      <td>1</td>\n",
              "      <td>0</td>\n",
              "    </tr>\n",
              "    <tr>\n",
              "      <th>1</th>\n",
              "      <td>6979.535903</td>\n",
              "      <td>0</td>\n",
              "      <td>94</td>\n",
              "      <td>13</td>\n",
              "      <td>42</td>\n",
              "      <td>1131.464935</td>\n",
              "      <td>0</td>\n",
              "      <td>8</td>\n",
              "      <td>0</td>\n",
              "      <td>0</td>\n",
              "      <td>0</td>\n",
              "      <td>0</td>\n",
              "      <td>0</td>\n",
              "      <td>1</td>\n",
              "      <td>0</td>\n",
              "      <td>0</td>\n",
              "      <td>0</td>\n",
              "      <td>0</td>\n",
              "      <td>0</td>\n",
              "      <td>0</td>\n",
              "      <td>0</td>\n",
              "      <td>0</td>\n",
              "      <td>1</td>\n",
              "      <td>0</td>\n",
              "      <td>1</td>\n",
              "      <td>0</td>\n",
              "      <td>0</td>\n",
              "      <td>1</td>\n",
              "      <td>1</td>\n",
              "      <td>0</td>\n",
              "      <td>0</td>\n",
              "      <td>0</td>\n",
              "      <td>0</td>\n",
              "      <td>0</td>\n",
              "      <td>1</td>\n",
              "      <td>0</td>\n",
              "      <td>0</td>\n",
              "      <td>0</td>\n",
              "      <td>0</td>\n",
              "      <td>1</td>\n",
              "      <td>0</td>\n",
              "      <td>0</td>\n",
              "      <td>0</td>\n",
              "      <td>0</td>\n",
              "      <td>0</td>\n",
              "      <td>0</td>\n",
              "      <td>0</td>\n",
              "      <td>0</td>\n",
              "      <td>0</td>\n",
              "      <td>1</td>\n",
              "      <td>0</td>\n",
              "    </tr>\n",
              "    <tr>\n",
              "      <th>2</th>\n",
              "      <td>12887.431650</td>\n",
              "      <td>48767</td>\n",
              "      <td>108</td>\n",
              "      <td>18</td>\n",
              "      <td>38</td>\n",
              "      <td>566.472247</td>\n",
              "      <td>0</td>\n",
              "      <td>2</td>\n",
              "      <td>0</td>\n",
              "      <td>1</td>\n",
              "      <td>0</td>\n",
              "      <td>0</td>\n",
              "      <td>0</td>\n",
              "      <td>0</td>\n",
              "      <td>1</td>\n",
              "      <td>0</td>\n",
              "      <td>0</td>\n",
              "      <td>0</td>\n",
              "      <td>0</td>\n",
              "      <td>1</td>\n",
              "      <td>0</td>\n",
              "      <td>0</td>\n",
              "      <td>0</td>\n",
              "      <td>0</td>\n",
              "      <td>1</td>\n",
              "      <td>0</td>\n",
              "      <td>1</td>\n",
              "      <td>0</td>\n",
              "      <td>1</td>\n",
              "      <td>0</td>\n",
              "      <td>0</td>\n",
              "      <td>0</td>\n",
              "      <td>0</td>\n",
              "      <td>0</td>\n",
              "      <td>1</td>\n",
              "      <td>0</td>\n",
              "      <td>0</td>\n",
              "      <td>0</td>\n",
              "      <td>0</td>\n",
              "      <td>0</td>\n",
              "      <td>0</td>\n",
              "      <td>0</td>\n",
              "      <td>0</td>\n",
              "      <td>0</td>\n",
              "      <td>0</td>\n",
              "      <td>0</td>\n",
              "      <td>0</td>\n",
              "      <td>0</td>\n",
              "      <td>1</td>\n",
              "      <td>1</td>\n",
              "      <td>0</td>\n",
              "    </tr>\n",
              "    <tr>\n",
              "      <th>3</th>\n",
              "      <td>7645.861827</td>\n",
              "      <td>0</td>\n",
              "      <td>106</td>\n",
              "      <td>18</td>\n",
              "      <td>65</td>\n",
              "      <td>529.881344</td>\n",
              "      <td>0</td>\n",
              "      <td>7</td>\n",
              "      <td>1</td>\n",
              "      <td>0</td>\n",
              "      <td>0</td>\n",
              "      <td>0</td>\n",
              "      <td>0</td>\n",
              "      <td>0</td>\n",
              "      <td>0</td>\n",
              "      <td>0</td>\n",
              "      <td>0</td>\n",
              "      <td>0</td>\n",
              "      <td>0</td>\n",
              "      <td>0</td>\n",
              "      <td>0</td>\n",
              "      <td>0</td>\n",
              "      <td>1</td>\n",
              "      <td>1</td>\n",
              "      <td>1</td>\n",
              "      <td>0</td>\n",
              "      <td>1</td>\n",
              "      <td>0</td>\n",
              "      <td>0</td>\n",
              "      <td>0</td>\n",
              "      <td>1</td>\n",
              "      <td>0</td>\n",
              "      <td>0</td>\n",
              "      <td>0</td>\n",
              "      <td>0</td>\n",
              "      <td>0</td>\n",
              "      <td>0</td>\n",
              "      <td>0</td>\n",
              "      <td>0</td>\n",
              "      <td>0</td>\n",
              "      <td>0</td>\n",
              "      <td>0</td>\n",
              "      <td>1</td>\n",
              "      <td>0</td>\n",
              "      <td>0</td>\n",
              "      <td>0</td>\n",
              "      <td>1</td>\n",
              "      <td>0</td>\n",
              "      <td>0</td>\n",
              "      <td>1</td>\n",
              "      <td>0</td>\n",
              "    </tr>\n",
              "    <tr>\n",
              "      <th>4</th>\n",
              "      <td>2813.692575</td>\n",
              "      <td>43836</td>\n",
              "      <td>73</td>\n",
              "      <td>12</td>\n",
              "      <td>44</td>\n",
              "      <td>138.130879</td>\n",
              "      <td>0</td>\n",
              "      <td>1</td>\n",
              "      <td>0</td>\n",
              "      <td>0</td>\n",
              "      <td>0</td>\n",
              "      <td>1</td>\n",
              "      <td>0</td>\n",
              "      <td>0</td>\n",
              "      <td>0</td>\n",
              "      <td>0</td>\n",
              "      <td>0</td>\n",
              "      <td>0</td>\n",
              "      <td>0</td>\n",
              "      <td>1</td>\n",
              "      <td>0</td>\n",
              "      <td>0</td>\n",
              "      <td>0</td>\n",
              "      <td>1</td>\n",
              "      <td>0</td>\n",
              "      <td>0</td>\n",
              "      <td>0</td>\n",
              "      <td>1</td>\n",
              "      <td>1</td>\n",
              "      <td>0</td>\n",
              "      <td>0</td>\n",
              "      <td>0</td>\n",
              "      <td>1</td>\n",
              "      <td>0</td>\n",
              "      <td>0</td>\n",
              "      <td>0</td>\n",
              "      <td>0</td>\n",
              "      <td>0</td>\n",
              "      <td>0</td>\n",
              "      <td>0</td>\n",
              "      <td>0</td>\n",
              "      <td>0</td>\n",
              "      <td>0</td>\n",
              "      <td>0</td>\n",
              "      <td>0</td>\n",
              "      <td>0</td>\n",
              "      <td>0</td>\n",
              "      <td>0</td>\n",
              "      <td>0</td>\n",
              "      <td>1</td>\n",
              "      <td>0</td>\n",
              "    </tr>\n",
              "  </tbody>\n",
              "</table>\n",
              "</div>"
            ],
            "text/plain": [
              "            CLV  Income  ...  Vehicle Size_Medsize  Vehicle Size_Small\n",
              "0   2763.519279   56274  ...                     1                   0\n",
              "1   6979.535903       0  ...                     1                   0\n",
              "2  12887.431650   48767  ...                     1                   0\n",
              "3   7645.861827       0  ...                     1                   0\n",
              "4   2813.692575   43836  ...                     1                   0\n",
              "\n",
              "[5 rows x 51 columns]"
            ]
          },
          "metadata": {
            "tags": []
          },
          "execution_count": 66
        }
      ]
    },
    {
      "cell_type": "markdown",
      "metadata": {
        "id": "P1DBUF1_YXcF"
      },
      "source": [
        "## OLS Model"
      ]
    },
    {
      "cell_type": "code",
      "metadata": {
        "id": "BPB21gkpYXcF"
      },
      "source": [
        "dfn.rename(columns={'CLV':'CLV'},inplace=True)"
      ],
      "execution_count": 67,
      "outputs": []
    },
    {
      "cell_type": "code",
      "metadata": {
        "id": "WnlK0I8fYXcF",
        "colab": {
          "base_uri": "https://localhost:8080/",
          "height": 1000
        },
        "outputId": "b894ec10-93b7-4883-d128-e7a990b1fe95"
      },
      "source": [
        "X=dfn.drop(['CLV'],axis=1)\n",
        "y=dfn['CLV']\n",
        "X_constant=sm.add_constant(X)\n",
        "lin_reg=sm.OLS(y,X_constant).fit()\n",
        "lin_reg.summary()"
      ],
      "execution_count": 68,
      "outputs": [
        {
          "output_type": "execute_result",
          "data": {
            "text/html": [
              "<table class=\"simpletable\">\n",
              "<caption>OLS Regression Results</caption>\n",
              "<tr>\n",
              "  <th>Dep. Variable:</th>           <td>CLV</td>       <th>  R-squared:         </th> <td>   0.169</td> \n",
              "</tr>\n",
              "<tr>\n",
              "  <th>Model:</th>                   <td>OLS</td>       <th>  Adj. R-squared:    </th> <td>   0.165</td> \n",
              "</tr>\n",
              "<tr>\n",
              "  <th>Method:</th>             <td>Least Squares</td>  <th>  F-statistic:       </th> <td>   38.60</td> \n",
              "</tr>\n",
              "<tr>\n",
              "  <th>Date:</th>             <td>Fri, 13 Aug 2021</td> <th>  Prob (F-statistic):</th> <td>6.92e-323</td>\n",
              "</tr>\n",
              "<tr>\n",
              "  <th>Time:</th>                 <td>20:23:20</td>     <th>  Log-Likelihood:    </th> <td> -92812.</td> \n",
              "</tr>\n",
              "<tr>\n",
              "  <th>No. Observations:</th>      <td>  9134</td>      <th>  AIC:               </th> <td>1.857e+05</td>\n",
              "</tr>\n",
              "<tr>\n",
              "  <th>Df Residuals:</th>          <td>  9085</td>      <th>  BIC:               </th> <td>1.861e+05</td>\n",
              "</tr>\n",
              "<tr>\n",
              "  <th>Df Model:</th>              <td>    48</td>      <th>                     </th>     <td> </td>    \n",
              "</tr>\n",
              "<tr>\n",
              "  <th>Covariance Type:</th>      <td>nonrobust</td>    <th>                     </th>     <td> </td>    \n",
              "</tr>\n",
              "</table>\n",
              "<table class=\"simpletable\">\n",
              "<tr>\n",
              "                 <td></td>                   <th>coef</th>     <th>std err</th>      <th>t</th>      <th>P>|t|</th>  <th>[0.025</th>    <th>0.975]</th>  \n",
              "</tr>\n",
              "<tr>\n",
              "  <th>const</th>                          <td> 1486.6386</td> <td>  903.661</td> <td>    1.645</td> <td> 0.100</td> <td> -284.740</td> <td> 3258.017</td>\n",
              "</tr>\n",
              "<tr>\n",
              "  <th>Income</th>                         <td>   -0.0012</td> <td>    0.004</td> <td>   -0.307</td> <td> 0.759</td> <td>   -0.009</td> <td>    0.006</td>\n",
              "</tr>\n",
              "<tr>\n",
              "  <th>Monthly Premium Auto</th>           <td>   69.5779</td> <td>   10.026</td> <td>    6.940</td> <td> 0.000</td> <td>   49.926</td> <td>   89.230</td>\n",
              "</tr>\n",
              "<tr>\n",
              "  <th>Months Since Last Claim</th>        <td>    7.0626</td> <td>    6.554</td> <td>    1.078</td> <td> 0.281</td> <td>   -5.785</td> <td>   19.911</td>\n",
              "</tr>\n",
              "<tr>\n",
              "  <th>Months Since Policy Inception</th>  <td>   -1.3200</td> <td>    2.380</td> <td>   -0.555</td> <td> 0.579</td> <td>   -5.985</td> <td>    3.345</td>\n",
              "</tr>\n",
              "<tr>\n",
              "  <th>Total Claim Amount</th>             <td>   -0.2268</td> <td>    0.474</td> <td>   -0.478</td> <td> 0.632</td> <td>   -1.156</td> <td>    0.703</td>\n",
              "</tr>\n",
              "<tr>\n",
              "  <th>Number of Open Complaints</th>      <td> -264.2647</td> <td>   72.496</td> <td>   -3.645</td> <td> 0.000</td> <td> -406.373</td> <td> -122.157</td>\n",
              "</tr>\n",
              "<tr>\n",
              "  <th>Number of Policies</th>             <td>   57.7126</td> <td>   27.753</td> <td>    2.080</td> <td> 0.038</td> <td>    3.311</td> <td>  112.114</td>\n",
              "</tr>\n",
              "<tr>\n",
              "  <th>State_California</th>               <td>   39.9647</td> <td>  189.426</td> <td>    0.211</td> <td> 0.833</td> <td> -331.354</td> <td>  411.283</td>\n",
              "</tr>\n",
              "<tr>\n",
              "  <th>State_Nevada</th>                   <td>   45.7021</td> <td>  261.160</td> <td>    0.175</td> <td> 0.861</td> <td> -466.231</td> <td>  557.635</td>\n",
              "</tr>\n",
              "<tr>\n",
              "  <th>State_Oregon</th>                   <td>   84.9912</td> <td>  196.050</td> <td>    0.434</td> <td> 0.665</td> <td> -299.312</td> <td>  469.294</td>\n",
              "</tr>\n",
              "<tr>\n",
              "  <th>State_Washington</th>               <td>  164.3324</td> <td>  269.980</td> <td>    0.609</td> <td> 0.543</td> <td> -364.888</td> <td>  693.553</td>\n",
              "</tr>\n",
              "<tr>\n",
              "  <th>Response_Yes</th>                   <td> -215.9162</td> <td>  207.436</td> <td>   -1.041</td> <td> 0.298</td> <td> -622.538</td> <td>  190.705</td>\n",
              "</tr>\n",
              "<tr>\n",
              "  <th>Coverage_Extended</th>              <td>  130.1678</td> <td>  249.287</td> <td>    0.522</td> <td> 0.602</td> <td> -358.490</td> <td>  618.826</td>\n",
              "</tr>\n",
              "<tr>\n",
              "  <th>Coverage_Premium</th>               <td>   61.7491</td> <td>  527.605</td> <td>    0.117</td> <td> 0.907</td> <td> -972.476</td> <td> 1095.974</td>\n",
              "</tr>\n",
              "<tr>\n",
              "  <th>Education_College</th>              <td>   -1.5962</td> <td>  171.219</td> <td>   -0.009</td> <td> 0.993</td> <td> -337.225</td> <td>  334.032</td>\n",
              "</tr>\n",
              "<tr>\n",
              "  <th>Education_Doctor</th>               <td> -197.9744</td> <td>  362.976</td> <td>   -0.545</td> <td> 0.585</td> <td> -909.488</td> <td>  513.540</td>\n",
              "</tr>\n",
              "<tr>\n",
              "  <th>Education_High School or Below</th> <td>  388.9735</td> <td>  173.415</td> <td>    2.243</td> <td> 0.025</td> <td>   49.041</td> <td>  728.906</td>\n",
              "</tr>\n",
              "<tr>\n",
              "  <th>Education_Master</th>               <td>  157.9503</td> <td>  262.899</td> <td>    0.601</td> <td> 0.548</td> <td> -357.390</td> <td>  673.291</td>\n",
              "</tr>\n",
              "<tr>\n",
              "  <th>EmploymentStatus_Employed</th>      <td>  700.4418</td> <td>  354.477</td> <td>    1.976</td> <td> 0.048</td> <td>    5.587</td> <td> 1395.296</td>\n",
              "</tr>\n",
              "<tr>\n",
              "  <th>EmploymentStatus_Medical Leave</th> <td>  210.8226</td> <td>  436.143</td> <td>    0.483</td> <td> 0.629</td> <td> -644.116</td> <td> 1065.761</td>\n",
              "</tr>\n",
              "<tr>\n",
              "  <th>EmploymentStatus_Retired</th>       <td>   64.6393</td> <td>  502.732</td> <td>    0.129</td> <td> 0.898</td> <td> -920.829</td> <td> 1050.108</td>\n",
              "</tr>\n",
              "<tr>\n",
              "  <th>EmploymentStatus_Unemployed</th>    <td>    9.1563</td> <td>  357.613</td> <td>    0.026</td> <td> 0.980</td> <td> -691.846</td> <td>  710.158</td>\n",
              "</tr>\n",
              "<tr>\n",
              "  <th>Gender_M</th>                       <td> -143.5239</td> <td>  132.973</td> <td>   -1.079</td> <td> 0.280</td> <td> -404.181</td> <td>  117.133</td>\n",
              "</tr>\n",
              "<tr>\n",
              "  <th>Location Code_Suburban</th>         <td>  -73.7895</td> <td>  263.381</td> <td>   -0.280</td> <td> 0.779</td> <td> -590.076</td> <td>  442.497</td>\n",
              "</tr>\n",
              "<tr>\n",
              "  <th>Location Code_Urban</th>            <td>  128.8756</td> <td>  241.416</td> <td>    0.534</td> <td> 0.593</td> <td> -344.355</td> <td>  602.106</td>\n",
              "</tr>\n",
              "<tr>\n",
              "  <th>Marital Status_Married</th>         <td> -177.6388</td> <td>  194.800</td> <td>   -0.912</td> <td> 0.362</td> <td> -559.490</td> <td>  204.212</td>\n",
              "</tr>\n",
              "<tr>\n",
              "  <th>Marital Status_Single</th>          <td> -490.7108</td> <td>  225.714</td> <td>   -2.174</td> <td> 0.030</td> <td> -933.161</td> <td>  -48.260</td>\n",
              "</tr>\n",
              "<tr>\n",
              "  <th>Policy Type_Personal Auto</th>      <td> -305.6726</td> <td>  256.741</td> <td>   -1.191</td> <td> 0.234</td> <td> -808.943</td> <td>  197.598</td>\n",
              "</tr>\n",
              "<tr>\n",
              "  <th>Policy Type_Special Auto</th>       <td>  165.6132</td> <td>  362.670</td> <td>    0.457</td> <td> 0.648</td> <td> -545.301</td> <td>  876.527</td>\n",
              "</tr>\n",
              "<tr>\n",
              "  <th>Policy_Corporate L2</th>            <td>-1007.2895</td> <td>  420.508</td> <td>   -2.395</td> <td> 0.017</td> <td>-1831.581</td> <td> -182.998</td>\n",
              "</tr>\n",
              "<tr>\n",
              "  <th>Policy_Corporate L3</th>            <td> -668.9524</td> <td>  386.386</td> <td>   -1.731</td> <td> 0.083</td> <td>-1426.357</td> <td>   88.452</td>\n",
              "</tr>\n",
              "<tr>\n",
              "  <th>Policy_Personal L1</th>             <td> -161.3307</td> <td>  163.621</td> <td>   -0.986</td> <td> 0.324</td> <td> -482.065</td> <td>  159.404</td>\n",
              "</tr>\n",
              "<tr>\n",
              "  <th>Policy_Personal L2</th>             <td>   -6.5954</td> <td>  141.822</td> <td>   -0.047</td> <td> 0.963</td> <td> -284.598</td> <td>  271.408</td>\n",
              "</tr>\n",
              "<tr>\n",
              "  <th>Policy_Personal L3</th>             <td> -137.7465</td> <td>  128.664</td> <td>   -1.071</td> <td> 0.284</td> <td> -389.957</td> <td>  114.464</td>\n",
              "</tr>\n",
              "<tr>\n",
              "  <th>Policy_Special L1</th>              <td>   27.9113</td> <td>  613.988</td> <td>    0.045</td> <td> 0.964</td> <td>-1175.643</td> <td> 1231.465</td>\n",
              "</tr>\n",
              "<tr>\n",
              "  <th>Policy_Special L2</th>              <td> -334.1257</td> <td>  443.941</td> <td>   -0.753</td> <td> 0.452</td> <td>-1204.351</td> <td>  536.099</td>\n",
              "</tr>\n",
              "<tr>\n",
              "  <th>Policy_Special L3</th>              <td>  471.8275</td> <td>  458.306</td> <td>    1.030</td> <td> 0.303</td> <td> -426.556</td> <td> 1370.211</td>\n",
              "</tr>\n",
              "<tr>\n",
              "  <th>Renew Offer Type_Offer2</th>        <td> -965.7715</td> <td>  165.363</td> <td>   -5.840</td> <td> 0.000</td> <td>-1289.920</td> <td> -641.623</td>\n",
              "</tr>\n",
              "<tr>\n",
              "  <th>Renew Offer Type_Offer3</th>        <td> -535.2550</td> <td>  200.282</td> <td>   -2.673</td> <td> 0.008</td> <td> -927.853</td> <td> -142.657</td>\n",
              "</tr>\n",
              "<tr>\n",
              "  <th>Renew Offer Type_Offer4</th>        <td>-1196.6484</td> <td>  233.357</td> <td>   -5.128</td> <td> 0.000</td> <td>-1654.080</td> <td> -739.217</td>\n",
              "</tr>\n",
              "<tr>\n",
              "  <th>Sales Channel_Branch</th>           <td>  227.6845</td> <td>  164.822</td> <td>    1.381</td> <td> 0.167</td> <td>  -95.404</td> <td>  550.773</td>\n",
              "</tr>\n",
              "<tr>\n",
              "  <th>Sales Channel_Call Center</th>      <td>  350.0434</td> <td>  186.196</td> <td>    1.880</td> <td> 0.060</td> <td>  -14.942</td> <td>  715.029</td>\n",
              "</tr>\n",
              "<tr>\n",
              "  <th>Sales Channel_Web</th>              <td>   56.3085</td> <td>  206.103</td> <td>    0.273</td> <td> 0.785</td> <td> -347.701</td> <td>  460.318</td>\n",
              "</tr>\n",
              "<tr>\n",
              "  <th>Vehicle Class_Luxury Car</th>       <td> 1193.8204</td> <td> 1384.216</td> <td>    0.862</td> <td> 0.388</td> <td>-1519.555</td> <td> 3907.196</td>\n",
              "</tr>\n",
              "<tr>\n",
              "  <th>Vehicle Class_Luxury SUV</th>       <td> 1160.9889</td> <td> 1372.147</td> <td>    0.846</td> <td> 0.398</td> <td>-1528.728</td> <td> 3850.706</td>\n",
              "</tr>\n",
              "<tr>\n",
              "  <th>Vehicle Class_SUV</th>              <td>  790.4905</td> <td>  457.031</td> <td>    1.730</td> <td> 0.084</td> <td> -105.394</td> <td> 1686.375</td>\n",
              "</tr>\n",
              "<tr>\n",
              "  <th>Vehicle Class_Sports Car</th>       <td> 1020.0479</td> <td>  526.252</td> <td>    1.938</td> <td> 0.053</td> <td>  -11.524</td> <td> 2051.620</td>\n",
              "</tr>\n",
              "<tr>\n",
              "  <th>Vehicle Class_Two-Door Car</th>     <td>  110.3101</td> <td>  172.088</td> <td>    0.641</td> <td> 0.522</td> <td> -227.021</td> <td>  447.642</td>\n",
              "</tr>\n",
              "<tr>\n",
              "  <th>Vehicle Size_Medsize</th>           <td>  304.2439</td> <td>  219.734</td> <td>    1.385</td> <td> 0.166</td> <td> -126.483</td> <td>  734.971</td>\n",
              "</tr>\n",
              "<tr>\n",
              "  <th>Vehicle Size_Small</th>             <td>  438.6969</td> <td>  255.673</td> <td>    1.716</td> <td> 0.086</td> <td>  -62.480</td> <td>  939.874</td>\n",
              "</tr>\n",
              "</table>\n",
              "<table class=\"simpletable\">\n",
              "<tr>\n",
              "  <th>Omnibus:</th>       <td>5666.276</td> <th>  Durbin-Watson:     </th> <td>   1.995</td> \n",
              "</tr>\n",
              "<tr>\n",
              "  <th>Prob(Omnibus):</th>  <td> 0.000</td>  <th>  Jarque-Bera (JB):  </th> <td>65051.545</td>\n",
              "</tr>\n",
              "<tr>\n",
              "  <th>Skew:</th>           <td> 2.849</td>  <th>  Prob(JB):          </th> <td>    0.00</td> \n",
              "</tr>\n",
              "<tr>\n",
              "  <th>Kurtosis:</th>       <td>14.767</td>  <th>  Cond. No.          </th> <td>1.29e+16</td> \n",
              "</tr>\n",
              "</table><br/><br/>Warnings:<br/>[1] Standard Errors assume that the covariance matrix of the errors is correctly specified.<br/>[2] The smallest eigenvalue is 1.29e-19. This might indicate that there are<br/>strong multicollinearity problems or that the design matrix is singular."
            ],
            "text/plain": [
              "<class 'statsmodels.iolib.summary.Summary'>\n",
              "\"\"\"\n",
              "                            OLS Regression Results                            \n",
              "==============================================================================\n",
              "Dep. Variable:                    CLV   R-squared:                       0.169\n",
              "Model:                            OLS   Adj. R-squared:                  0.165\n",
              "Method:                 Least Squares   F-statistic:                     38.60\n",
              "Date:                Fri, 13 Aug 2021   Prob (F-statistic):          6.92e-323\n",
              "Time:                        20:23:20   Log-Likelihood:                -92812.\n",
              "No. Observations:                9134   AIC:                         1.857e+05\n",
              "Df Residuals:                    9085   BIC:                         1.861e+05\n",
              "Df Model:                          48                                         \n",
              "Covariance Type:            nonrobust                                         \n",
              "==================================================================================================\n",
              "                                     coef    std err          t      P>|t|      [0.025      0.975]\n",
              "--------------------------------------------------------------------------------------------------\n",
              "const                           1486.6386    903.661      1.645      0.100    -284.740    3258.017\n",
              "Income                            -0.0012      0.004     -0.307      0.759      -0.009       0.006\n",
              "Monthly Premium Auto              69.5779     10.026      6.940      0.000      49.926      89.230\n",
              "Months Since Last Claim            7.0626      6.554      1.078      0.281      -5.785      19.911\n",
              "Months Since Policy Inception     -1.3200      2.380     -0.555      0.579      -5.985       3.345\n",
              "Total Claim Amount                -0.2268      0.474     -0.478      0.632      -1.156       0.703\n",
              "Number of Open Complaints       -264.2647     72.496     -3.645      0.000    -406.373    -122.157\n",
              "Number of Policies                57.7126     27.753      2.080      0.038       3.311     112.114\n",
              "State_California                  39.9647    189.426      0.211      0.833    -331.354     411.283\n",
              "State_Nevada                      45.7021    261.160      0.175      0.861    -466.231     557.635\n",
              "State_Oregon                      84.9912    196.050      0.434      0.665    -299.312     469.294\n",
              "State_Washington                 164.3324    269.980      0.609      0.543    -364.888     693.553\n",
              "Response_Yes                    -215.9162    207.436     -1.041      0.298    -622.538     190.705\n",
              "Coverage_Extended                130.1678    249.287      0.522      0.602    -358.490     618.826\n",
              "Coverage_Premium                  61.7491    527.605      0.117      0.907    -972.476    1095.974\n",
              "Education_College                 -1.5962    171.219     -0.009      0.993    -337.225     334.032\n",
              "Education_Doctor                -197.9744    362.976     -0.545      0.585    -909.488     513.540\n",
              "Education_High School or Below   388.9735    173.415      2.243      0.025      49.041     728.906\n",
              "Education_Master                 157.9503    262.899      0.601      0.548    -357.390     673.291\n",
              "EmploymentStatus_Employed        700.4418    354.477      1.976      0.048       5.587    1395.296\n",
              "EmploymentStatus_Medical Leave   210.8226    436.143      0.483      0.629    -644.116    1065.761\n",
              "EmploymentStatus_Retired          64.6393    502.732      0.129      0.898    -920.829    1050.108\n",
              "EmploymentStatus_Unemployed        9.1563    357.613      0.026      0.980    -691.846     710.158\n",
              "Gender_M                        -143.5239    132.973     -1.079      0.280    -404.181     117.133\n",
              "Location Code_Suburban           -73.7895    263.381     -0.280      0.779    -590.076     442.497\n",
              "Location Code_Urban              128.8756    241.416      0.534      0.593    -344.355     602.106\n",
              "Marital Status_Married          -177.6388    194.800     -0.912      0.362    -559.490     204.212\n",
              "Marital Status_Single           -490.7108    225.714     -2.174      0.030    -933.161     -48.260\n",
              "Policy Type_Personal Auto       -305.6726    256.741     -1.191      0.234    -808.943     197.598\n",
              "Policy Type_Special Auto         165.6132    362.670      0.457      0.648    -545.301     876.527\n",
              "Policy_Corporate L2            -1007.2895    420.508     -2.395      0.017   -1831.581    -182.998\n",
              "Policy_Corporate L3             -668.9524    386.386     -1.731      0.083   -1426.357      88.452\n",
              "Policy_Personal L1              -161.3307    163.621     -0.986      0.324    -482.065     159.404\n",
              "Policy_Personal L2                -6.5954    141.822     -0.047      0.963    -284.598     271.408\n",
              "Policy_Personal L3              -137.7465    128.664     -1.071      0.284    -389.957     114.464\n",
              "Policy_Special L1                 27.9113    613.988      0.045      0.964   -1175.643    1231.465\n",
              "Policy_Special L2               -334.1257    443.941     -0.753      0.452   -1204.351     536.099\n",
              "Policy_Special L3                471.8275    458.306      1.030      0.303    -426.556    1370.211\n",
              "Renew Offer Type_Offer2         -965.7715    165.363     -5.840      0.000   -1289.920    -641.623\n",
              "Renew Offer Type_Offer3         -535.2550    200.282     -2.673      0.008    -927.853    -142.657\n",
              "Renew Offer Type_Offer4        -1196.6484    233.357     -5.128      0.000   -1654.080    -739.217\n",
              "Sales Channel_Branch             227.6845    164.822      1.381      0.167     -95.404     550.773\n",
              "Sales Channel_Call Center        350.0434    186.196      1.880      0.060     -14.942     715.029\n",
              "Sales Channel_Web                 56.3085    206.103      0.273      0.785    -347.701     460.318\n",
              "Vehicle Class_Luxury Car        1193.8204   1384.216      0.862      0.388   -1519.555    3907.196\n",
              "Vehicle Class_Luxury SUV        1160.9889   1372.147      0.846      0.398   -1528.728    3850.706\n",
              "Vehicle Class_SUV                790.4905    457.031      1.730      0.084    -105.394    1686.375\n",
              "Vehicle Class_Sports Car        1020.0479    526.252      1.938      0.053     -11.524    2051.620\n",
              "Vehicle Class_Two-Door Car       110.3101    172.088      0.641      0.522    -227.021     447.642\n",
              "Vehicle Size_Medsize             304.2439    219.734      1.385      0.166    -126.483     734.971\n",
              "Vehicle Size_Small               438.6969    255.673      1.716      0.086     -62.480     939.874\n",
              "==============================================================================\n",
              "Omnibus:                     5666.276   Durbin-Watson:                   1.995\n",
              "Prob(Omnibus):                  0.000   Jarque-Bera (JB):            65051.545\n",
              "Skew:                           2.849   Prob(JB):                         0.00\n",
              "Kurtosis:                      14.767   Cond. No.                     1.29e+16\n",
              "==============================================================================\n",
              "\n",
              "Warnings:\n",
              "[1] Standard Errors assume that the covariance matrix of the errors is correctly specified.\n",
              "[2] The smallest eigenvalue is 1.29e-19. This might indicate that there are\n",
              "strong multicollinearity problems or that the design matrix is singular.\n",
              "\"\"\""
            ]
          },
          "metadata": {
            "tags": []
          },
          "execution_count": 68
        }
      ]
    },
    {
      "cell_type": "markdown",
      "metadata": {
        "id": "qOLTqFPLYXcF"
      },
      "source": [
        "## Assumptions\n",
        "1. No autocorrelation\n",
        "2. Linearity of residuals\n",
        "3. Normality of error terms\n",
        "4. No Heteroscedacity\n",
        "5. No strong MultiCollinearity"
      ]
    },
    {
      "cell_type": "markdown",
      "metadata": {
        "id": "E4Z7OiDsYXcF"
      },
      "source": [
        "**Assumption 1 No Auto correlation.**\n",
        "\n",
        "Test needed : Durbin- Watson Test.\n",
        "\n",
        "It's value ranges from 0-4. If the value of Durbin- Watson is Between 0-2, it's known as Positive Autocorrelation.\n",
        "If the value ranges from 2-4, it is known as Negative autocorrelation.\n",
        "If the value is exactly 2, it means No Autocorrelation.\n",
        "For a good linear model, it should have low or no autocorrelation.\n",
        "we can see here the values of dublin watson test: 1.995 (No AUTO-CORRELATION)"
      ]
    },
    {
      "cell_type": "markdown",
      "metadata": {
        "id": "ZxjLHXrmYXcF"
      },
      "source": [
        "From the graph below, we can easily see that there is no autocorrelation."
      ]
    },
    {
      "cell_type": "code",
      "metadata": {
        "id": "X-kHbEpBYXcF",
        "colab": {
          "base_uri": "https://localhost:8080/",
          "height": 281
        },
        "outputId": "312fabe2-540b-40a2-91b3-8b922638c198"
      },
      "source": [
        "import statsmodels.tsa.api as smt #timeseries analysis\n",
        "\n",
        "acf = smt.graphics.plot_acf(lin_reg.resid, lags=40 , alpha=0.05)#auto_correlation value, lags= previous value\n",
        "acf.show()"
      ],
      "execution_count": 69,
      "outputs": [
        {
          "output_type": "display_data",
          "data": {
            "image/png": "[encoded data removed]",
            "text/plain": [
              "<Figure size 432x288 with 1 Axes>"
            ]
          },
          "metadata": {
            "tags": [],
            "needs_background": "light"
          }
        }
      ]
    },
    {
      "cell_type": "markdown",
      "metadata": {
        "id": "nShbvOjpYXcG"
      },
      "source": [
        "Assumption 2- Normality of Residuals\n",
        "2) The second assumption is the Normality of Residuals / Error terms.\n",
        "\n",
        "For this we prefer the Jarque Bera test. For a good model, the residuals should be normally distributed. The higher the value of Jarque Bera test , the lesser the residuals are normally distributed. We generally prefer a lower value of jarque bera test.\n",
        "\n",
        "The Jarque–Bera test is a goodness-of-fit test of whether sample data have the skewness and kurtosis matching a normal distribution. A large value for the jarque-bera test indicates non normality.\n",
        "\n",
        "The jarque bera test tests whether the sample data has the skewness and kurtosis matching a normal distribution. Note that this test generally works good for large enough number of data samples(>2000) as the test statistics asymptotically has a chi squared distribution with degrees 2 of freedom."
      ]
    },
    {
      "cell_type": "markdown",
      "metadata": {
        "id": "mF-ZfVc33AEY"
      },
      "source": [
        "H0: the error terms are normally distributed\n",
        "\n",
        "dof for residuals is n-2"
      ]
    },
    {
      "cell_type": "code",
      "metadata": {
        "id": "7SKiIckNYXcG",
        "colab": {
          "base_uri": "https://localhost:8080/"
        },
        "outputId": "6ee76ae6-c990-4d46-d565-b217da651372"
      },
      "source": [
        "from scipy import stats\n",
        "print(stats.jarque_bera(lin_reg.resid))"
      ],
      "execution_count": 70,
      "outputs": [
        {
          "output_type": "stream",
          "text": [
            "(65051.545241382635, 0.0)\n"
          ],
          "name": "stdout"
        }
      ]
    },
    {
      "cell_type": "markdown",
      "metadata": {
        "id": "PtNzJTywYXcG"
      },
      "source": [
        "The critical chi square value at the 5% level of significance is 5.99. If the computed value exceeds this value the null hypothesis is rejected.\n",
        "In this case the computed value of the JB statistic 65051.11 is greater than 5.99. Thus we reject the null hypothesis that the error terms are normally distributed."
      ]
    },
    {
      "cell_type": "code",
      "metadata": {
        "id": "yempL5C_YXcG",
        "colab": {
          "base_uri": "https://localhost:8080/",
          "height": 318
        },
        "outputId": "fab0cbb0-9097-467a-a6d8-5f600013c3b8"
      },
      "source": [
        "import seaborn as sns\n",
        "\n",
        "sns.distplot(lin_reg.resid)\n",
        "plt.show()"
      ],
      "execution_count": 71,
      "outputs": [
        {
          "output_type": "stream",
          "text": [
            "/usr/local/lib/python3.7/dist-packages/seaborn/distributions.py:2557: FutureWarning: `distplot` is a deprecated function and will be removed in a future version. Please adapt your code to use either `displot` (a figure-level function with similar flexibility) or `histplot` (an axes-level function for histograms).\n",
            "  warnings.warn(msg, FutureWarning)\n"
          ],
          "name": "stderr"
        },
        {
          "output_type": "display_data",
          "data": {
            "image/png": "[encoded data removed]",
            "text/plain": [
              "<Figure size 432x288 with 1 Axes>"
            ]
          },
          "metadata": {
            "tags": [],
            "needs_background": "light"
          }
        }
      ]
    },
    {
      "cell_type": "markdown",
      "metadata": {
        "id": "V31Buf85YXcG"
      },
      "source": [
        "From the graph we infer that due to the high value of Jarque Bera test, only few residuals are normally distributed"
      ]
    },
    {
      "cell_type": "markdown",
      "metadata": {
        "id": "v0HBdr_kYXcG"
      },
      "source": [
        "**Asssumption 3 - Linearity of residuals**\n",
        "\n",
        "Here we have 2 options. Either we can plot the observed values Vs predicted values and plot the Residual Vs predicted values and see the linearity of residuals. OR We can go for rainbow test. Let's look both of them one by one."
      ]
    },
    {
      "cell_type": "code",
      "metadata": {
        "id": "A5-kKglXYXcH",
        "colab": {
          "base_uri": "https://localhost:8080/"
        },
        "outputId": "74f1c068-e3b4-42c2-a0b2-e1c49c439dcc"
      },
      "source": [
        "import statsmodels.api as sm\n",
        "sm.stats.diagnostic.linear_rainbow(res=lin_reg, frac=0.5)#the fraction of the data to include in the center model"
      ],
      "execution_count": 72,
      "outputs": [
        {
          "output_type": "execute_result",
          "data": {
            "text/plain": [
              "(1.0164972729968922, 0.290712874369247)"
            ]
          },
          "metadata": {
            "tags": []
          },
          "execution_count": 72
        }
      ]
    },
    {
      "cell_type": "markdown",
      "metadata": {
        "id": "RkYLhHN0YXcH"
      },
      "source": [
        "H0:The data is linear, pvalue > 0.05 failed to reject H0, here we failed to reject H0 so residuals are normally distributed"
      ]
    },
    {
      "cell_type": "code",
      "metadata": {
        "id": "9nbCq1L-YXcI",
        "colab": {
          "base_uri": "https://localhost:8080/"
        },
        "outputId": "cdabda94-c429-4ef7-9904-a0b080fc73b3"
      },
      "source": [
        "lin_reg.resid.mean()"
      ],
      "execution_count": 73,
      "outputs": [
        {
          "output_type": "execute_result",
          "data": {
            "text/plain": [
              "1.6757896419821079e-09"
            ]
          },
          "metadata": {
            "tags": []
          },
          "execution_count": 73
        }
      ]
    },
    {
      "cell_type": "markdown",
      "metadata": {
        "id": "GkfHUOIdYXcI"
      },
      "source": [
        "Assumption 4 - Homoscedasticity_test(using goldfeld test) OR (Beusch-Wagon Test)\n",
        "Homoscedacity :: If the variance of the residuals are symmetrically distributed across the regression line , then the data is said to homoscedastic.\n",
        "\n",
        "Heteroscedacity :: If the variance is unequal for the residuals across the regression line, then the data is said to be heteroscedastic. In this case the residuals can form an arrow shape or any other non symmetrical shape.\n",
        "\n",
        "This test is based on the hytpothesis testing where null and alternate hypothesis are:\n",
        "𝐻0:𝜎𝑢𝑖 𝑖𝑠 𝑐𝑜𝑛𝑠𝑡𝑎𝑛𝑡 𝑎𝑐𝑟𝑜𝑠𝑠 𝑡ℎ𝑒 𝑟𝑎𝑛𝑔𝑒 𝑜𝑓 𝑑𝑎𝑡𝑎\n",
        "𝐻𝑎:𝜎𝑢𝑖 𝑖𝑠 𝑛𝑜𝑡 𝑐𝑜𝑛𝑠𝑡𝑎𝑛𝑡 𝑎𝑐𝑟𝑜𝑠𝑠 𝑡ℎ𝑒 𝑟𝑎𝑛𝑔𝑒 𝑜𝑓 𝑑𝑎𝑡𝑎\n",
        "The residuals should be homoscedastic.\n",
        "\n",
        "Goldfeld Test"
      ]
    },
    {
      "cell_type": "code",
      "metadata": {
        "id": "lVY9_-kuYXcI"
      },
      "source": [
        "import statsmodels.stats.api as sms"
      ],
      "execution_count": 74,
      "outputs": []
    },
    {
      "cell_type": "code",
      "metadata": {
        "id": "LdoiPpP_YXcI",
        "colab": {
          "base_uri": "https://localhost:8080/"
        },
        "outputId": "9dfa5ff9-cb37-40de-b2c8-5052aa3c77a6"
      },
      "source": [
        "name=['F-statistic','p-value']\n",
        "test=sms.het_goldfeldquandt(lin_reg.resid,lin_reg.model.exog)\n",
        "\n",
        "test"
      ],
      "execution_count": 75,
      "outputs": [
        {
          "output_type": "execute_result",
          "data": {
            "text/plain": [
              "(1.228968019489822, 2.216740369945866e-12, 'increasing')"
            ]
          },
          "metadata": {
            "tags": []
          },
          "execution_count": 75
        }
      ]
    },
    {
      "cell_type": "markdown",
      "metadata": {
        "id": "NuQBD_V5YXcI"
      },
      "source": [
        " p-value below a certain level (like 0.05) indicates we should reject the null in favor of heteroscedasticity."
      ]
    },
    {
      "cell_type": "markdown",
      "metadata": {
        "id": "5loUyOGvYXcI"
      },
      "source": [
        "**Assumption 5- NO MULTI COLLINEARITY**"
      ]
    },
    {
      "cell_type": "markdown",
      "metadata": {
        "id": "YD4QfZlGYXcI"
      },
      "source": [
        "The interpretation of VIF is as follows: the square root of a given variable’s VIF shows how much larger the standard error is, compared with what it would be if that predictor were uncorrelated with the other features in the model. If no features are correlated, then all values for VIF will be 1."
      ]
    },
    {
      "cell_type": "code",
      "metadata": {
        "id": "J5qoZq96YXcI",
        "colab": {
          "base_uri": "https://localhost:8080/",
          "height": 1000
        },
        "outputId": "253b2f47-37b3-4613-b855-d045d54b17d4"
      },
      "source": [
        "from statsmodels.stats.outliers_influence import variance_inflation_factor\n",
        "vif = [variance_inflation_factor(X_constant.values, i) for i in range(X_constant.shape[1])]\n",
        "pd.DataFrame({'vif': vif[1:]}, index=X.columns)"
      ],
      "execution_count": 76,
      "outputs": [
        {
          "output_type": "stream",
          "text": [
            "/usr/local/lib/python3.7/dist-packages/statsmodels/stats/outliers_influence.py:185: RuntimeWarning: divide by zero encountered in double_scalars\n",
            "  vif = 1. / (1. - r_squared_i)\n"
          ],
          "name": "stderr"
        },
        {
          "output_type": "execute_result",
          "data": {
            "text/html": [
              "<div>\n",
              "<style scoped>\n",
              "    .dataframe tbody tr th:only-of-type {\n",
              "        vertical-align: middle;\n",
              "    }\n",
              "\n",
              "    .dataframe tbody tr th {\n",
              "        vertical-align: top;\n",
              "    }\n",
              "\n",
              "    .dataframe thead th {\n",
              "        text-align: right;\n",
              "    }\n",
              "</style>\n",
              "<table border=\"1\" class=\"dataframe\">\n",
              "  <thead>\n",
              "    <tr style=\"text-align: right;\">\n",
              "      <th></th>\n",
              "      <th>vif</th>\n",
              "    </tr>\n",
              "  </thead>\n",
              "  <tbody>\n",
              "    <tr>\n",
              "      <th>Income</th>\n",
              "      <td>3.183923</td>\n",
              "    </tr>\n",
              "    <tr>\n",
              "      <th>Monthly Premium Auto</th>\n",
              "      <td>27.569851</td>\n",
              "    </tr>\n",
              "    <tr>\n",
              "      <th>Months Since Last Claim</th>\n",
              "      <td>1.009934</td>\n",
              "    </tr>\n",
              "    <tr>\n",
              "      <th>Months Since Policy Inception</th>\n",
              "      <td>1.022048</td>\n",
              "    </tr>\n",
              "    <tr>\n",
              "      <th>Total Claim Amount</th>\n",
              "      <td>4.396905</td>\n",
              "    </tr>\n",
              "    <tr>\n",
              "      <th>Number of Open Complaints</th>\n",
              "      <td>1.009196</td>\n",
              "    </tr>\n",
              "    <tr>\n",
              "      <th>Number of Policies</th>\n",
              "      <td>1.019460</td>\n",
              "    </tr>\n",
              "    <tr>\n",
              "      <th>State_California</th>\n",
              "      <td>1.878492</td>\n",
              "    </tr>\n",
              "    <tr>\n",
              "      <th>State_Nevada</th>\n",
              "      <td>1.378696</td>\n",
              "    </tr>\n",
              "    <tr>\n",
              "      <th>State_Oregon</th>\n",
              "      <td>1.813907</td>\n",
              "    </tr>\n",
              "    <tr>\n",
              "      <th>State_Washington</th>\n",
              "      <td>1.346631</td>\n",
              "    </tr>\n",
              "    <tr>\n",
              "      <th>Response_Yes</th>\n",
              "      <td>1.223327</td>\n",
              "    </tr>\n",
              "    <tr>\n",
              "      <th>Coverage_Extended</th>\n",
              "      <td>3.025019</td>\n",
              "    </tr>\n",
              "    <tr>\n",
              "      <th>Coverage_Premium</th>\n",
              "      <td>5.293859</td>\n",
              "    </tr>\n",
              "    <tr>\n",
              "      <th>Education_College</th>\n",
              "      <td>1.408609</td>\n",
              "    </tr>\n",
              "    <tr>\n",
              "      <th>Education_Doctor</th>\n",
              "      <td>1.100259</td>\n",
              "    </tr>\n",
              "    <tr>\n",
              "      <th>Education_High School or Below</th>\n",
              "      <td>1.426087</td>\n",
              "    </tr>\n",
              "    <tr>\n",
              "      <th>Education_Master</th>\n",
              "      <td>1.193819</td>\n",
              "    </tr>\n",
              "    <tr>\n",
              "      <th>EmploymentStatus_Employed</th>\n",
              "      <td>6.832471</td>\n",
              "    </tr>\n",
              "    <tr>\n",
              "      <th>EmploymentStatus_Medical Leave</th>\n",
              "      <td>1.986035</td>\n",
              "    </tr>\n",
              "    <tr>\n",
              "      <th>EmploymentStatus_Retired</th>\n",
              "      <td>1.752228</td>\n",
              "    </tr>\n",
              "    <tr>\n",
              "      <th>EmploymentStatus_Unemployed</th>\n",
              "      <td>5.610118</td>\n",
              "    </tr>\n",
              "    <tr>\n",
              "      <th>Gender_M</th>\n",
              "      <td>1.023864</td>\n",
              "    </tr>\n",
              "    <tr>\n",
              "      <th>Location Code_Suburban</th>\n",
              "      <td>3.735429</td>\n",
              "    </tr>\n",
              "    <tr>\n",
              "      <th>Location Code_Urban</th>\n",
              "      <td>1.933874</td>\n",
              "    </tr>\n",
              "    <tr>\n",
              "      <th>Marital Status_Married</th>\n",
              "      <td>2.141867</td>\n",
              "    </tr>\n",
              "    <tr>\n",
              "      <th>Marital Status_Single</th>\n",
              "      <td>2.327253</td>\n",
              "    </tr>\n",
              "    <tr>\n",
              "      <th>Policy Type_Personal Auto</th>\n",
              "      <td>inf</td>\n",
              "    </tr>\n",
              "    <tr>\n",
              "      <th>Policy Type_Special Auto</th>\n",
              "      <td>inf</td>\n",
              "    </tr>\n",
              "    <tr>\n",
              "      <th>Policy_Corporate L2</th>\n",
              "      <td>2.495167</td>\n",
              "    </tr>\n",
              "    <tr>\n",
              "      <th>Policy_Corporate L3</th>\n",
              "      <td>3.414004</td>\n",
              "    </tr>\n",
              "    <tr>\n",
              "      <th>Policy_Personal L1</th>\n",
              "      <td>inf</td>\n",
              "    </tr>\n",
              "    <tr>\n",
              "      <th>Policy_Personal L2</th>\n",
              "      <td>inf</td>\n",
              "    </tr>\n",
              "    <tr>\n",
              "      <th>Policy_Personal L3</th>\n",
              "      <td>inf</td>\n",
              "    </tr>\n",
              "    <tr>\n",
              "      <th>Policy_Special L1</th>\n",
              "      <td>inf</td>\n",
              "    </tr>\n",
              "    <tr>\n",
              "      <th>Policy_Special L2</th>\n",
              "      <td>inf</td>\n",
              "    </tr>\n",
              "    <tr>\n",
              "      <th>Policy_Special L3</th>\n",
              "      <td>inf</td>\n",
              "    </tr>\n",
              "    <tr>\n",
              "      <th>Renew Offer Type_Offer2</th>\n",
              "      <td>1.379520</td>\n",
              "    </tr>\n",
              "    <tr>\n",
              "      <th>Renew Offer Type_Offer3</th>\n",
              "      <td>1.228733</td>\n",
              "    </tr>\n",
              "    <tr>\n",
              "      <th>Renew Offer Type_Offer4</th>\n",
              "      <td>1.255994</td>\n",
              "    </tr>\n",
              "    <tr>\n",
              "      <th>Sales Channel_Branch</th>\n",
              "      <td>1.271889</td>\n",
              "    </tr>\n",
              "    <tr>\n",
              "      <th>Sales Channel_Call Center</th>\n",
              "      <td>1.252330</td>\n",
              "    </tr>\n",
              "    <tr>\n",
              "      <th>Sales Channel_Web</th>\n",
              "      <td>1.220698</td>\n",
              "    </tr>\n",
              "    <tr>\n",
              "      <th>Vehicle Class_Luxury Car</th>\n",
              "      <td>7.781484</td>\n",
              "    </tr>\n",
              "    <tr>\n",
              "      <th>Vehicle Class_Luxury SUV</th>\n",
              "      <td>8.611290</td>\n",
              "    </tr>\n",
              "    <tr>\n",
              "      <th>Vehicle Class_SUV</th>\n",
              "      <td>7.645435</td>\n",
              "    </tr>\n",
              "    <tr>\n",
              "      <th>Vehicle Class_Sports Car</th>\n",
              "      <td>3.220140</td>\n",
              "    </tr>\n",
              "    <tr>\n",
              "      <th>Vehicle Class_Two-Door Car</th>\n",
              "      <td>1.124315</td>\n",
              "    </tr>\n",
              "    <tr>\n",
              "      <th>Vehicle Size_Medsize</th>\n",
              "      <td>2.334500</td>\n",
              "    </tr>\n",
              "    <tr>\n",
              "      <th>Vehicle Size_Small</th>\n",
              "      <td>2.360275</td>\n",
              "    </tr>\n",
              "  </tbody>\n",
              "</table>\n",
              "</div>"
            ],
            "text/plain": [
              "                                      vif\n",
              "Income                           3.183923\n",
              "Monthly Premium Auto            27.569851\n",
              "Months Since Last Claim          1.009934\n",
              "Months Since Policy Inception    1.022048\n",
              "Total Claim Amount               4.396905\n",
              "Number of Open Complaints        1.009196\n",
              "Number of Policies               1.019460\n",
              "State_California                 1.878492\n",
              "State_Nevada                     1.378696\n",
              "State_Oregon                     1.813907\n",
              "State_Washington                 1.346631\n",
              "Response_Yes                     1.223327\n",
              "Coverage_Extended                3.025019\n",
              "Coverage_Premium                 5.293859\n",
              "Education_College                1.408609\n",
              "Education_Doctor                 1.100259\n",
              "Education_High School or Below   1.426087\n",
              "Education_Master                 1.193819\n",
              "EmploymentStatus_Employed        6.832471\n",
              "EmploymentStatus_Medical Leave   1.986035\n",
              "EmploymentStatus_Retired         1.752228\n",
              "EmploymentStatus_Unemployed      5.610118\n",
              "Gender_M                         1.023864\n",
              "Location Code_Suburban           3.735429\n",
              "Location Code_Urban              1.933874\n",
              "Marital Status_Married           2.141867\n",
              "Marital Status_Single            2.327253\n",
              "Policy Type_Personal Auto             inf\n",
              "Policy Type_Special Auto              inf\n",
              "Policy_Corporate L2              2.495167\n",
              "Policy_Corporate L3              3.414004\n",
              "Policy_Personal L1                    inf\n",
              "Policy_Personal L2                    inf\n",
              "Policy_Personal L3                    inf\n",
              "Policy_Special L1                     inf\n",
              "Policy_Special L2                     inf\n",
              "Policy_Special L3                     inf\n",
              "Renew Offer Type_Offer2          1.379520\n",
              "Renew Offer Type_Offer3          1.228733\n",
              "Renew Offer Type_Offer4          1.255994\n",
              "Sales Channel_Branch             1.271889\n",
              "Sales Channel_Call Center        1.252330\n",
              "Sales Channel_Web                1.220698\n",
              "Vehicle Class_Luxury Car         7.781484\n",
              "Vehicle Class_Luxury SUV         8.611290\n",
              "Vehicle Class_SUV                7.645435\n",
              "Vehicle Class_Sports Car         3.220140\n",
              "Vehicle Class_Two-Door Car       1.124315\n",
              "Vehicle Size_Medsize             2.334500\n",
              "Vehicle Size_Small               2.360275"
            ]
          },
          "metadata": {
            "tags": []
          },
          "execution_count": 76
        }
      ]
    },
    {
      "cell_type": "markdown",
      "metadata": {
        "id": "YAS7U9RkYXcJ"
      },
      "source": [
        "we can see that there is high VIF in column Policy & policy type\n",
        "Also we have seen in statistical approach these veriables are not significant to predict target\n",
        "hence from above 2 conclusion we can remove them"
      ]
    },
    {
      "cell_type": "code",
      "metadata": {
        "id": "rKXg7l5QYXcJ"
      },
      "source": [
        "from sklearn.model_selection import train_test_split\n",
        "X=dfn.drop(['CLV','Policy Type_Personal Auto','Policy Type_Special Auto','Policy_Personal L1','Policy_Personal L2','Policy_Personal L3',\n",
        "'Policy_Special L1','Policy_Special L2','Policy_Special L3'],axis=1)\n",
        "y=dfn['CLV']          \n",
        "y =np.log(y)\n",
        "X_train,X_test,y_train,y_test=train_test_split(X,y,test_size=0.30,random_state=42)"
      ],
      "execution_count": 77,
      "outputs": []
    },
    {
      "cell_type": "code",
      "metadata": {
        "id": "MMtKxzfCYXcJ"
      },
      "source": [
        "numerical_cols.rename(columns={'CLV':'CLV'},inplace=True)"
      ],
      "execution_count": 78,
      "outputs": []
    },
    {
      "cell_type": "code",
      "metadata": {
        "id": "sS5nW3enYXcJ",
        "colab": {
          "base_uri": "https://localhost:8080/"
        },
        "outputId": "c0d2679f-8a60-4adb-ca43-7aa945a82042"
      },
      "source": [
        "print(X_train.shape)\n",
        "print(y_train.shape)\n",
        "print(X_test.shape)\n",
        "print(y_test.shape)"
      ],
      "execution_count": 79,
      "outputs": [
        {
          "output_type": "stream",
          "text": [
            "(6393, 42)\n",
            "(6393,)\n",
            "(2741, 42)\n",
            "(2741,)\n"
          ],
          "name": "stdout"
        }
      ]
    },
    {
      "cell_type": "markdown",
      "metadata": {
        "id": "UZJZ5xRMYXcJ"
      },
      "source": [
        "## Model Building"
      ]
    },
    {
      "cell_type": "markdown",
      "metadata": {
        "id": "EKDW9IyvYXcJ"
      },
      "source": [
        "## Linear Regression"
      ]
    },
    {
      "cell_type": "code",
      "metadata": {
        "id": "fBbtT6D3YXcJ"
      },
      "source": [
        "from sklearn.linear_model import LinearRegression"
      ],
      "execution_count": 80,
      "outputs": []
    },
    {
      "cell_type": "code",
      "metadata": {
        "id": "DCVX13MdYXcJ",
        "colab": {
          "base_uri": "https://localhost:8080/"
        },
        "outputId": "e8520a74-426d-473e-832c-aec4b57418aa"
      },
      "source": [
        "lr = LinearRegression()\n",
        "model = lr.fit(X_train,y_train)\n",
        "print(f'R^2 score for train: {lr.score(X_train, y_train)}')\n",
        "print(f'R^2 score for test: {lr.score(X_test, y_test)}')"
      ],
      "execution_count": 81,
      "outputs": [
        {
          "output_type": "stream",
          "text": [
            "R^2 score for train: 0.26073373730563165\n",
            "R^2 score for test: 0.25484160264997946\n"
          ],
          "name": "stdout"
        }
      ]
    },
    {
      "cell_type": "code",
      "metadata": {
        "id": "Rt8Na9g9YXcK"
      },
      "source": [
        "y_pred = model.predict(X_test)"
      ],
      "execution_count": 82,
      "outputs": []
    },
    {
      "cell_type": "code",
      "metadata": {
        "id": "cIQwbL7xYXcK"
      },
      "source": [
        "from sklearn.metrics import mean_squared_error,r2_score,mean_absolute_error"
      ],
      "execution_count": 83,
      "outputs": []
    },
    {
      "cell_type": "code",
      "metadata": {
        "scrolled": true,
        "id": "05lrkYHRYXcK",
        "colab": {
          "base_uri": "https://localhost:8080/"
        },
        "outputId": "77dccdf6-e7ab-40cc-d87b-241241076609"
      },
      "source": [
        "print('RMSE:',np.sqrt(mean_squared_error(y_test,y_pred)))\n",
        "print(\"MAE\",mean_absolute_error(y_test,y_pred))\n",
        "print('R-squared:',r2_score(y_test,y_pred)) "
      ],
      "execution_count": 84,
      "outputs": [
        {
          "output_type": "stream",
          "text": [
            "RMSE: 0.577231415348726\n",
            "MAE 0.4455033282270874\n",
            "R-squared: 0.25484160264997946\n"
          ],
          "name": "stdout"
        }
      ]
    },
    {
      "cell_type": "code",
      "metadata": {
        "id": "XLpqfHtvYXcK",
        "colab": {
          "base_uri": "https://localhost:8080/"
        },
        "outputId": "56c50958-354f-416a-88e5-7b3dc16b5c08"
      },
      "source": [
        "#Feature Selection by Recursive Backward Elimination\n",
        "cols = list(X.columns)\n",
        "pmax = 1\n",
        "while (len(cols)>0):\n",
        "    p= []\n",
        "    X = X[cols]\n",
        "    Xc = sm.add_constant(X)\n",
        "    model = sm.OLS(y,Xc).fit()\n",
        "    p = pd.Series(model.pvalues.values[1:],index = cols)      \n",
        "    pmax = max(p)\n",
        "    feature_with_p_max = p.idxmax()\n",
        "    if(pmax>0.05):\n",
        "        cols.remove(feature_with_p_max)\n",
        "    else:\n",
        "        break\n",
        "selected_features = cols\n",
        "print(selected_features)"
      ],
      "execution_count": 85,
      "outputs": [
        {
          "output_type": "stream",
          "text": [
            "['Monthly Premium Auto', 'Number of Open Complaints', 'Number of Policies', 'Coverage_Extended', 'Coverage_Premium', 'Education_High School or Below', 'EmploymentStatus_Employed', 'Marital Status_Single', 'Policy_Corporate L2', 'Renew Offer Type_Offer2', 'Renew Offer Type_Offer3', 'Renew Offer Type_Offer4', 'Vehicle Class_SUV', 'Vehicle Class_Sports Car']\n"
          ],
          "name": "stdout"
        }
      ]
    },
    {
      "cell_type": "code",
      "metadata": {
        "id": "1n9yDckcYXcK"
      },
      "source": [
        "X_new = X[['Monthly Premium Auto', 'Number of Open Complaints', 'Number of Policies', 'Coverage_Extended', 'Coverage_Premium', 'Education_High School or Below', 'EmploymentStatus_Employed', 'Marital Status_Single', 'Policy_Corporate L2', 'Renew Offer Type_Offer2', 'Renew Offer Type_Offer3', 'Renew Offer Type_Offer4', 'Vehicle Class_SUV', 'Vehicle Class_Sports Car']]"
      ],
      "execution_count": 86,
      "outputs": []
    },
    {
      "cell_type": "code",
      "metadata": {
        "scrolled": false,
        "id": "PXsu424JYXcK",
        "colab": {
          "base_uri": "https://localhost:8080/",
          "height": 690
        },
        "outputId": "4b2cd69a-230d-4a8b-f894-dd16e903e8fd"
      },
      "source": [
        "X_constant_new=sm.add_constant(X_new)\n",
        "lin_reg=sm.OLS(y,X_constant_new).fit()\n",
        "lin_reg.summary()"
      ],
      "execution_count": 87,
      "outputs": [
        {
          "output_type": "execute_result",
          "data": {
            "text/html": [
              "<table class=\"simpletable\">\n",
              "<caption>OLS Regression Results</caption>\n",
              "<tr>\n",
              "  <th>Dep. Variable:</th>           <td>CLV</td>       <th>  R-squared:         </th> <td>   0.259</td> \n",
              "</tr>\n",
              "<tr>\n",
              "  <th>Model:</th>                   <td>OLS</td>       <th>  Adj. R-squared:    </th> <td>   0.258</td> \n",
              "</tr>\n",
              "<tr>\n",
              "  <th>Method:</th>             <td>Least Squares</td>  <th>  F-statistic:       </th> <td>   228.2</td> \n",
              "</tr>\n",
              "<tr>\n",
              "  <th>Date:</th>             <td>Fri, 13 Aug 2021</td> <th>  Prob (F-statistic):</th>  <td>  0.00</td>  \n",
              "</tr>\n",
              "<tr>\n",
              "  <th>Time:</th>                 <td>20:23:24</td>     <th>  Log-Likelihood:    </th> <td> -7694.3</td> \n",
              "</tr>\n",
              "<tr>\n",
              "  <th>No. Observations:</th>      <td>  9134</td>      <th>  AIC:               </th> <td>1.542e+04</td>\n",
              "</tr>\n",
              "<tr>\n",
              "  <th>Df Residuals:</th>          <td>  9119</td>      <th>  BIC:               </th> <td>1.553e+04</td>\n",
              "</tr>\n",
              "<tr>\n",
              "  <th>Df Model:</th>              <td>    14</td>      <th>                     </th>     <td> </td>    \n",
              "</tr>\n",
              "<tr>\n",
              "  <th>Covariance Type:</th>      <td>nonrobust</td>    <th>                     </th>     <td> </td>    \n",
              "</tr>\n",
              "</table>\n",
              "<table class=\"simpletable\">\n",
              "<tr>\n",
              "                 <td></td>                   <th>coef</th>     <th>std err</th>      <th>t</th>      <th>P>|t|</th>  <th>[0.025</th>    <th>0.975]</th>  \n",
              "</tr>\n",
              "<tr>\n",
              "  <th>const</th>                          <td>    7.9001</td> <td>    0.024</td> <td>  333.289</td> <td> 0.000</td> <td>    7.854</td> <td>    7.947</td>\n",
              "</tr>\n",
              "<tr>\n",
              "  <th>Monthly Premium Auto</th>           <td>    0.0070</td> <td>    0.000</td> <td>   30.864</td> <td> 0.000</td> <td>    0.007</td> <td>    0.007</td>\n",
              "</tr>\n",
              "<tr>\n",
              "  <th>Number of Open Complaints</th>      <td>   -0.0317</td> <td>    0.006</td> <td>   -4.895</td> <td> 0.000</td> <td>   -0.044</td> <td>   -0.019</td>\n",
              "</tr>\n",
              "<tr>\n",
              "  <th>Number of Policies</th>             <td>    0.0529</td> <td>    0.002</td> <td>   21.385</td> <td> 0.000</td> <td>    0.048</td> <td>    0.058</td>\n",
              "</tr>\n",
              "<tr>\n",
              "  <th>Coverage_Extended</th>              <td>    0.0669</td> <td>    0.014</td> <td>    4.773</td> <td> 0.000</td> <td>    0.039</td> <td>    0.094</td>\n",
              "</tr>\n",
              "<tr>\n",
              "  <th>Coverage_Premium</th>               <td>    0.0898</td> <td>    0.024</td> <td>    3.729</td> <td> 0.000</td> <td>    0.043</td> <td>    0.137</td>\n",
              "</tr>\n",
              "<tr>\n",
              "  <th>Education_High School or Below</th> <td>    0.0336</td> <td>    0.013</td> <td>    2.567</td> <td> 0.010</td> <td>    0.008</td> <td>    0.059</td>\n",
              "</tr>\n",
              "<tr>\n",
              "  <th>EmploymentStatus_Employed</th>      <td>    0.0922</td> <td>    0.013</td> <td>    7.093</td> <td> 0.000</td> <td>    0.067</td> <td>    0.118</td>\n",
              "</tr>\n",
              "<tr>\n",
              "  <th>Marital Status_Single</th>          <td>   -0.0506</td> <td>    0.014</td> <td>   -3.622</td> <td> 0.000</td> <td>   -0.078</td> <td>   -0.023</td>\n",
              "</tr>\n",
              "<tr>\n",
              "  <th>Policy_Corporate L2</th>            <td>   -0.0548</td> <td>    0.024</td> <td>   -2.295</td> <td> 0.022</td> <td>   -0.102</td> <td>   -0.008</td>\n",
              "</tr>\n",
              "<tr>\n",
              "  <th>Renew Offer Type_Offer2</th>        <td>   -0.1199</td> <td>    0.014</td> <td>   -8.370</td> <td> 0.000</td> <td>   -0.148</td> <td>   -0.092</td>\n",
              "</tr>\n",
              "<tr>\n",
              "  <th>Renew Offer Type_Offer3</th>        <td>   -0.0602</td> <td>    0.018</td> <td>   -3.416</td> <td> 0.001</td> <td>   -0.095</td> <td>   -0.026</td>\n",
              "</tr>\n",
              "<tr>\n",
              "  <th>Renew Offer Type_Offer4</th>        <td>   -0.1327</td> <td>    0.020</td> <td>   -6.541</td> <td> 0.000</td> <td>   -0.172</td> <td>   -0.093</td>\n",
              "</tr>\n",
              "<tr>\n",
              "  <th>Vehicle Class_SUV</th>              <td>    0.1502</td> <td>    0.017</td> <td>    8.777</td> <td> 0.000</td> <td>    0.117</td> <td>    0.184</td>\n",
              "</tr>\n",
              "<tr>\n",
              "  <th>Vehicle Class_Sports Car</th>       <td>    0.1510</td> <td>    0.028</td> <td>    5.429</td> <td> 0.000</td> <td>    0.096</td> <td>    0.205</td>\n",
              "</tr>\n",
              "</table>\n",
              "<table class=\"simpletable\">\n",
              "<tr>\n",
              "  <th>Omnibus:</th>       <td>1476.101</td> <th>  Durbin-Watson:     </th> <td>   2.019</td>\n",
              "</tr>\n",
              "<tr>\n",
              "  <th>Prob(Omnibus):</th>  <td> 0.000</td>  <th>  Jarque-Bera (JB):  </th> <td>2293.969</td>\n",
              "</tr>\n",
              "<tr>\n",
              "  <th>Skew:</th>           <td> 1.163</td>  <th>  Prob(JB):          </th> <td>    0.00</td>\n",
              "</tr>\n",
              "<tr>\n",
              "  <th>Kurtosis:</th>       <td> 3.788</td>  <th>  Cond. No.          </th> <td>    516.</td>\n",
              "</tr>\n",
              "</table><br/><br/>Warnings:<br/>[1] Standard Errors assume that the covariance matrix of the errors is correctly specified."
            ],
            "text/plain": [
              "<class 'statsmodels.iolib.summary.Summary'>\n",
              "\"\"\"\n",
              "                            OLS Regression Results                            \n",
              "==============================================================================\n",
              "Dep. Variable:                    CLV   R-squared:                       0.259\n",
              "Model:                            OLS   Adj. R-squared:                  0.258\n",
              "Method:                 Least Squares   F-statistic:                     228.2\n",
              "Date:                Fri, 13 Aug 2021   Prob (F-statistic):               0.00\n",
              "Time:                        20:23:24   Log-Likelihood:                -7694.3\n",
              "No. Observations:                9134   AIC:                         1.542e+04\n",
              "Df Residuals:                    9119   BIC:                         1.553e+04\n",
              "Df Model:                          14                                         \n",
              "Covariance Type:            nonrobust                                         \n",
              "==================================================================================================\n",
              "                                     coef    std err          t      P>|t|      [0.025      0.975]\n",
              "--------------------------------------------------------------------------------------------------\n",
              "const                              7.9001      0.024    333.289      0.000       7.854       7.947\n",
              "Monthly Premium Auto               0.0070      0.000     30.864      0.000       0.007       0.007\n",
              "Number of Open Complaints         -0.0317      0.006     -4.895      0.000      -0.044      -0.019\n",
              "Number of Policies                 0.0529      0.002     21.385      0.000       0.048       0.058\n",
              "Coverage_Extended                  0.0669      0.014      4.773      0.000       0.039       0.094\n",
              "Coverage_Premium                   0.0898      0.024      3.729      0.000       0.043       0.137\n",
              "Education_High School or Below     0.0336      0.013      2.567      0.010       0.008       0.059\n",
              "EmploymentStatus_Employed          0.0922      0.013      7.093      0.000       0.067       0.118\n",
              "Marital Status_Single             -0.0506      0.014     -3.622      0.000      -0.078      -0.023\n",
              "Policy_Corporate L2               -0.0548      0.024     -2.295      0.022      -0.102      -0.008\n",
              "Renew Offer Type_Offer2           -0.1199      0.014     -8.370      0.000      -0.148      -0.092\n",
              "Renew Offer Type_Offer3           -0.0602      0.018     -3.416      0.001      -0.095      -0.026\n",
              "Renew Offer Type_Offer4           -0.1327      0.020     -6.541      0.000      -0.172      -0.093\n",
              "Vehicle Class_SUV                  0.1502      0.017      8.777      0.000       0.117       0.184\n",
              "Vehicle Class_Sports Car           0.1510      0.028      5.429      0.000       0.096       0.205\n",
              "==============================================================================\n",
              "Omnibus:                     1476.101   Durbin-Watson:                   2.019\n",
              "Prob(Omnibus):                  0.000   Jarque-Bera (JB):             2293.969\n",
              "Skew:                           1.163   Prob(JB):                         0.00\n",
              "Kurtosis:                       3.788   Cond. No.                         516.\n",
              "==============================================================================\n",
              "\n",
              "Warnings:\n",
              "[1] Standard Errors assume that the covariance matrix of the errors is correctly specified.\n",
              "\"\"\""
            ]
          },
          "metadata": {
            "tags": []
          },
          "execution_count": 87
        }
      ]
    },
    {
      "cell_type": "markdown",
      "metadata": {
        "id": "uYdORzncYXcK"
      },
      "source": [
        "## Rigde and Lasso Regression"
      ]
    },
    {
      "cell_type": "code",
      "metadata": {
        "id": "NVdrP8BmYXcL"
      },
      "source": [
        "from sklearn.linear_model import Ridge, Lasso"
      ],
      "execution_count": 88,
      "outputs": []
    },
    {
      "cell_type": "code",
      "metadata": {
        "id": "cyvmZLrbYXcL",
        "colab": {
          "base_uri": "https://localhost:8080/"
        },
        "outputId": "6aec41a0-2573-47c2-8f7a-408b7b386622"
      },
      "source": [
        "ridge=Ridge(alpha=0.1,normalize=True)\n",
        "ridge.fit(X_train,y_train)\n",
        "print('Ridge Regression')\n",
        "y_pred = ridge.predict(X_test)\n",
        "print('RMSE:', np.sqrt(mean_squared_error(y_test, y_pred)))\n",
        "print('R-squared:',r2_score(y_test,y_pred)) "
      ],
      "execution_count": 89,
      "outputs": [
        {
          "output_type": "stream",
          "text": [
            "Ridge Regression\n",
            "RMSE: 0.5775916080118745\n",
            "R-squared: 0.25391135415166965\n"
          ],
          "name": "stdout"
        }
      ]
    },
    {
      "cell_type": "code",
      "metadata": {
        "id": "OnOFi--UYXcL",
        "colab": {
          "base_uri": "https://localhost:8080/"
        },
        "outputId": "c30cfa7a-019e-456d-cd36-6bb3b39d4f84"
      },
      "source": [
        "ridge=Ridge(alpha=1.0,normalize=True)\n",
        "ridge.fit(X_train,y_train)\n",
        "print('Ridge Regression')\n",
        "y_pred = ridge.predict(X_test)\n",
        "print('RMSE:', np.sqrt(mean_squared_error(y_test, y_pred)))\n",
        "print('R-squared:',r2_score(y_test,y_pred)) "
      ],
      "execution_count": 90,
      "outputs": [
        {
          "output_type": "stream",
          "text": [
            "Ridge Regression\n",
            "RMSE: 0.5925342452447084\n",
            "R-squared: 0.2148084953609083\n"
          ],
          "name": "stdout"
        }
      ]
    },
    {
      "cell_type": "code",
      "metadata": {
        "id": "7f0yIbqOYXcL",
        "colab": {
          "base_uri": "https://localhost:8080/"
        },
        "outputId": "d46f790f-b420-48b0-fd97-a2197be86188"
      },
      "source": [
        "lasso = Lasso(random_state=1)\n",
        "lasso.fit(X_train,y_train)\n",
        "print('Ridge Regression')\n",
        "y_pred = lasso.predict(X_test)\n",
        "print('RMSE:', np.sqrt(mean_squared_error(y_test, y_pred)))\n",
        "print('R-squared:',r2_score(y_test,y_pred)) "
      ],
      "execution_count": 91,
      "outputs": [
        {
          "output_type": "stream",
          "text": [
            "Ridge Regression\n",
            "RMSE: 0.5992937645386806\n",
            "R-squared: 0.19679167777854611\n"
          ],
          "name": "stdout"
        }
      ]
    },
    {
      "cell_type": "markdown",
      "metadata": {
        "id": "XZP7pwnfYXcL"
      },
      "source": [
        "## Decision Tree"
      ]
    },
    {
      "cell_type": "code",
      "metadata": {
        "id": "KmjI_ZhCYXcM"
      },
      "source": [
        "from sklearn.tree import DecisionTreeRegressor"
      ],
      "execution_count": 92,
      "outputs": []
    },
    {
      "cell_type": "code",
      "metadata": {
        "id": "EGLmML76YXcM",
        "colab": {
          "base_uri": "https://localhost:8080/"
        },
        "outputId": "e60827fc-24df-4044-a761-7d83cf11c6d3"
      },
      "source": [
        "dt = DecisionTreeRegressor(random_state=1)\n",
        "\n",
        "dt.fit(X_train,y_train)\n",
        "y_pred=dt.predict(X_test)\n",
        "print('RMSE:',np.sqrt(mean_squared_error(y_test,y_pred)))\n",
        "print(\"MAE\",mean_absolute_error(y_test,y_pred))\n",
        "print('R-squared:',r2_score(y_test,y_pred)) "
      ],
      "execution_count": 93,
      "outputs": [
        {
          "output_type": "stream",
          "text": [
            "RMSE: 0.2668170587050659\n",
            "MAE 0.10536932394383777\n",
            "R-squared: 0.840787974934538\n"
          ],
          "name": "stdout"
        }
      ]
    },
    {
      "cell_type": "code",
      "metadata": {
        "id": "tfHUcOReYXcM"
      },
      "source": [
        "from sklearn.model_selection import train_test_split\n",
        "X=dfn.drop(['CLV','Policy Type_Personal Auto','Policy Type_Special Auto','Policy_Personal L1','Policy_Personal L2','Policy_Personal L3',\n",
        "'Policy_Special L1','Policy_Special L2','Policy_Special L3'],axis=1)\n",
        "y=np.log(dfn['CLV'])         \n",
        "X_train,X_test,y_train,y_test=train_test_split(X,y,test_size=0.30,random_state=42)"
      ],
      "execution_count": 94,
      "outputs": []
    },
    {
      "cell_type": "markdown",
      "metadata": {
        "id": "4aH4W8PeYXcM"
      },
      "source": [
        "## RandomForest "
      ]
    },
    {
      "cell_type": "code",
      "metadata": {
        "id": "CUBYyVzpYXcM"
      },
      "source": [
        "from sklearn.ensemble import RandomForestRegressor"
      ],
      "execution_count": 95,
      "outputs": []
    },
    {
      "cell_type": "code",
      "metadata": {
        "scrolled": true,
        "id": "P17Yp0V2YXcM",
        "colab": {
          "base_uri": "https://localhost:8080/"
        },
        "outputId": "433c54c9-406d-4c25-9e6c-09cd2bbeddeb"
      },
      "source": [
        "rf = RandomForestRegressor(random_state=1)\n",
        "\n",
        "rf.fit(X_train,y_train)\n",
        "\n",
        "y_pred=rf.predict(X_test)\n",
        "print('RMSE:',np.sqrt(mean_squared_error(y_test,y_pred)))\n",
        "print(\"MAE\",mean_absolute_error(y_test,y_pred))\n",
        "print('R-squared:',r2_score(y_test,y_pred)) "
      ],
      "execution_count": 96,
      "outputs": [
        {
          "output_type": "stream",
          "text": [
            "RMSE: 0.19615072746667536\n",
            "MAE 0.08892265505040524\n",
            "R-squared: 0.9139544276201418\n"
          ],
          "name": "stdout"
        }
      ]
    },
    {
      "cell_type": "markdown",
      "metadata": {
        "id": "CtsUWozaYXcM"
      },
      "source": [
        "## Hyperparameter tuning of random forest"
      ]
    },
    {
      "cell_type": "code",
      "metadata": {
        "id": "yWCy5aolYXcM",
        "colab": {
          "base_uri": "https://localhost:8080/"
        },
        "outputId": "04bfef41-94e9-47b3-ef7a-19d5d344fe5c"
      },
      "source": [
        "from sklearn.model_selection import GridSearchCV\n",
        "rf = RandomForestRegressor()\n",
        "params = {\n",
        "        'max_depth' : [10,20,30],\n",
        "        \n",
        "        'n_estimators' : [100,200,50],\n",
        "        \n",
        "        \"bootstrap\" : [True, False],\n",
        "    \n",
        "        'max_features': ['auto', 'sqrt', 'log2']\n",
        "        \n",
        "        }\n",
        "\n",
        "grid = GridSearchCV(estimator = rf, param_grid=params, cv = 5, n_jobs = -1, return_train_score = True )\n",
        "grid.fit(X,y)\n",
        "grid.best_params_"
      ],
      "execution_count": 97,
      "outputs": [
        {
          "output_type": "execute_result",
          "data": {
            "text/plain": [
              "{'bootstrap': True,\n",
              " 'max_depth': 20,\n",
              " 'max_features': 'auto',\n",
              " 'n_estimators': 100}"
            ]
          },
          "metadata": {
            "tags": []
          },
          "execution_count": 97
        }
      ]
    },
    {
      "cell_type": "code",
      "metadata": {
        "id": "Qvm2UZXAYXcN",
        "colab": {
          "base_uri": "https://localhost:8080/"
        },
        "outputId": "6364be87-8814-4655-8dd7-01c23630f1fb"
      },
      "source": [
        "rf = RandomForestRegressor(**grid.best_params_)\n",
        "\n",
        "rf.fit(X_train,y_train)\n",
        "\n",
        "y_pred=rf.predict(X_test)\n",
        "print('RMSE:',np.sqrt(mean_squared_error(y_test,y_pred)))\n",
        "print(\"MAE\",mean_absolute_error(y_test,y_pred))\n",
        "print('R-squared:',r2_score(y_test,y_pred))"
      ],
      "execution_count": 98,
      "outputs": [
        {
          "output_type": "stream",
          "text": [
            "RMSE: 0.19796639880195488\n",
            "MAE 0.08983205401153661\n",
            "R-squared: 0.9123540914308492\n"
          ],
          "name": "stdout"
        }
      ]
    },
    {
      "cell_type": "code",
      "metadata": {
        "id": "6qFNbW5xYXcN"
      },
      "source": [
        "from sklearn.ensemble import AdaBoostRegressor"
      ],
      "execution_count": 99,
      "outputs": []
    },
    {
      "cell_type": "code",
      "metadata": {
        "id": "R9UIN80wYXcN",
        "colab": {
          "base_uri": "https://localhost:8080/"
        },
        "outputId": "060b209f-4be5-43a4-9866-5a7bd4d353af"
      },
      "source": [
        "adaboost = AdaBoostRegressor(\n",
        "    RandomForestRegressor(max_depth=5,criterion='mse'),\n",
        "    n_estimators=150\n",
        ")\n",
        "adaboost.fit(X_train, y_train)"
      ],
      "execution_count": 100,
      "outputs": [
        {
          "output_type": "execute_result",
          "data": {
            "text/plain": [
              "AdaBoostRegressor(base_estimator=RandomForestRegressor(bootstrap=True,\n",
              "                                                       ccp_alpha=0.0,\n",
              "                                                       criterion='mse',\n",
              "                                                       max_depth=5,\n",
              "                                                       max_features='auto',\n",
              "                                                       max_leaf_nodes=None,\n",
              "                                                       max_samples=None,\n",
              "                                                       min_impurity_decrease=0.0,\n",
              "                                                       min_impurity_split=None,\n",
              "                                                       min_samples_leaf=1,\n",
              "                                                       min_samples_split=2,\n",
              "                                                       min_weight_fraction_leaf=0.0,\n",
              "                                                       n_estimators=100,\n",
              "                                                       n_jobs=None,\n",
              "                                                       oob_score=False,\n",
              "                                                       random_state=None,\n",
              "                                                       verbose=0,\n",
              "                                                       warm_start=False),\n",
              "                  learning_rate=1.0, loss='linear', n_estimators=150,\n",
              "                  random_state=None)"
            ]
          },
          "metadata": {
            "tags": []
          },
          "execution_count": 100
        }
      ]
    },
    {
      "cell_type": "code",
      "metadata": {
        "id": "pkamFmf8YXcN",
        "colab": {
          "base_uri": "https://localhost:8080/"
        },
        "outputId": "7e931ee9-4f1c-4744-8178-423f4061cb1a"
      },
      "source": [
        "y_pred = adaboost.predict(X_test)\n",
        "print('RMSE:',np.sqrt(mean_squared_error(y_test,y_pred)))\n",
        "print(\"MAE\",mean_absolute_error(y_test,y_pred))\n",
        "print('R-squared:',r2_score(y_test,y_pred))"
      ],
      "execution_count": 101,
      "outputs": [
        {
          "output_type": "stream",
          "text": [
            "RMSE: 0.21716990527319793\n",
            "MAE 0.12947717894074842\n",
            "R-squared: 0.8945253809639656\n"
          ],
          "name": "stdout"
        }
      ]
    },
    {
      "cell_type": "code",
      "metadata": {
        "id": "2E2JgvFnYXcN",
        "colab": {
          "base_uri": "https://localhost:8080/",
          "height": 356
        },
        "outputId": "498b6813-19d9-4f7e-8b45-91b0b5170c95"
      },
      "source": [
        "pd.DataFrame(rf.feature_importances_,index=X.columns,columns=['Score']).sort_values(\"Score\",ascending=False)[:10]"
      ],
      "execution_count": 102,
      "outputs": [
        {
          "output_type": "execute_result",
          "data": {
            "text/html": [
              "<div>\n",
              "<style scoped>\n",
              "    .dataframe tbody tr th:only-of-type {\n",
              "        vertical-align: middle;\n",
              "    }\n",
              "\n",
              "    .dataframe tbody tr th {\n",
              "        vertical-align: top;\n",
              "    }\n",
              "\n",
              "    .dataframe thead th {\n",
              "        text-align: right;\n",
              "    }\n",
              "</style>\n",
              "<table border=\"1\" class=\"dataframe\">\n",
              "  <thead>\n",
              "    <tr style=\"text-align: right;\">\n",
              "      <th></th>\n",
              "      <th>Score</th>\n",
              "    </tr>\n",
              "  </thead>\n",
              "  <tbody>\n",
              "    <tr>\n",
              "      <th>Number of Policies</th>\n",
              "      <td>0.673452</td>\n",
              "    </tr>\n",
              "    <tr>\n",
              "      <th>Monthly Premium Auto</th>\n",
              "      <td>0.230672</td>\n",
              "    </tr>\n",
              "    <tr>\n",
              "      <th>Total Claim Amount</th>\n",
              "      <td>0.014421</td>\n",
              "    </tr>\n",
              "    <tr>\n",
              "      <th>Months Since Policy Inception</th>\n",
              "      <td>0.012873</td>\n",
              "    </tr>\n",
              "    <tr>\n",
              "      <th>Income</th>\n",
              "      <td>0.012813</td>\n",
              "    </tr>\n",
              "    <tr>\n",
              "      <th>Months Since Last Claim</th>\n",
              "      <td>0.011918</td>\n",
              "    </tr>\n",
              "    <tr>\n",
              "      <th>Number of Open Complaints</th>\n",
              "      <td>0.003249</td>\n",
              "    </tr>\n",
              "    <tr>\n",
              "      <th>Coverage_Extended</th>\n",
              "      <td>0.003185</td>\n",
              "    </tr>\n",
              "    <tr>\n",
              "      <th>EmploymentStatus_Employed</th>\n",
              "      <td>0.002788</td>\n",
              "    </tr>\n",
              "    <tr>\n",
              "      <th>Gender_M</th>\n",
              "      <td>0.001961</td>\n",
              "    </tr>\n",
              "  </tbody>\n",
              "</table>\n",
              "</div>"
            ],
            "text/plain": [
              "                                  Score\n",
              "Number of Policies             0.673452\n",
              "Monthly Premium Auto           0.230672\n",
              "Total Claim Amount             0.014421\n",
              "Months Since Policy Inception  0.012873\n",
              "Income                         0.012813\n",
              "Months Since Last Claim        0.011918\n",
              "Number of Open Complaints      0.003249\n",
              "Coverage_Extended              0.003185\n",
              "EmploymentStatus_Employed      0.002788\n",
              "Gender_M                       0.001961"
            ]
          },
          "metadata": {
            "tags": []
          },
          "execution_count": 102
        }
      ]
    },
    {
      "cell_type": "code",
      "metadata": {
        "id": "14LGd0b1YXcO",
        "colab": {
          "base_uri": "https://localhost:8080/",
          "height": 500
        },
        "outputId": "8ba6f19d-e9ac-456d-914d-fe6c12264540"
      },
      "source": [
        "pd.DataFrame(rf.feature_importances_,index=X.columns,columns=['Score']).sort_values(\"Score\",ascending=False).plot(kind='bar',figsize=(20,7))\n",
        "plt.show()"
      ],
      "execution_count": 103,
      "outputs": [
        {
          "output_type": "display_data",
          "data": {
            "image/png": "[encoded data removed]",
            "text/plain": [
              "<Figure size 1440x504 with 1 Axes>"
            ]
          },
          "metadata": {
            "tags": [],
            "needs_background": "light"
          }
        }
      ]
    },
    {
      "cell_type": "markdown",
      "metadata": {
        "id": "vhQYQUkaYXcO"
      },
      "source": [
        "Random Forest Model with hyperparameter tuning using GridSearchCV gave the best RMSE and R^2 score"
      ]
    },
    {
      "cell_type": "markdown",
      "metadata": {
        "id": "9oPlFxnNYXcO"
      },
      "source": [
        "No of Policies and Monthly Premium are the most important features in predicting CLV"
      ]
    }
  ]
}